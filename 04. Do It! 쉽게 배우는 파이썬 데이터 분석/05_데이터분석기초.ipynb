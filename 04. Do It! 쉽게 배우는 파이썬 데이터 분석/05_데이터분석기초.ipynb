{
 "cells": [
  {
   "cell_type": "code",
   "execution_count": null,
   "id": "c6706193-d613-4497-9a2c-8527bd39a487",
   "metadata": {
    "id": "c6706193-d613-4497-9a2c-8527bd39a487"
   },
   "outputs": [],
   "source": [
    "# 그래프 해상도 설정\n",
    "import matplotlib.pyplot as plt\n",
    "plt.rcParams.update({'figure.dpi' : '100'})\n",
    "%config InlineBackend.figure_format = 'retina'"
   ]
  },
  {
   "cell_type": "code",
   "execution_count": null,
   "id": "f3e8538f-19e7-4dc7-a50f-f2f5d33eacfc",
   "metadata": {
    "id": "f3e8538f-19e7-4dc7-a50f-f2f5d33eacfc",
    "outputId": "79b9cae7-92d4-40e7-84e6-958c3e37f288"
   },
   "outputs": [
    {
     "data": {
      "text/html": [
       "<!--마크다운 표 정렬 설정-->\n",
       "<style> table {float:left} </style>\n"
      ],
      "text/plain": [
       "<IPython.core.display.HTML object>"
      ]
     },
     "metadata": {},
     "output_type": "display_data"
    }
   ],
   "source": [
    "%%html\n",
    "<!--마크다운 표 정렬 설정-->\n",
    "<style> table {float:left} </style>"
   ]
  },
  {
   "cell_type": "markdown",
   "id": "422a6c30-026f-4a1d-beed-f51d91162ac9",
   "metadata": {
    "id": "422a6c30-026f-4a1d-beed-f51d91162ac9"
   },
   "source": [
    "---"
   ]
  },
  {
   "cell_type": "markdown",
   "id": "4f279bc9",
   "metadata": {
    "id": "4f279bc9"
   },
   "source": [
    "# 05 데이터 분석 기초! - 데이터 파악하기, 다루기 쉽게 수정하기"
   ]
  },
  {
   "cell_type": "markdown",
   "id": "eb0cf719",
   "metadata": {
    "id": "eb0cf719"
   },
   "source": [
    "## 05-1 데이터 파악하기"
   ]
  },
  {
   "cell_type": "markdown",
   "id": "b3492134",
   "metadata": {
    "id": "b3492134"
   },
   "source": [
    "#### 데이터를 파악할 때 사용하는 명령어"
   ]
  },
  {
   "cell_type": "markdown",
   "id": "8c24d560",
   "metadata": {
    "id": "8c24d560"
   },
   "source": [
    "| 함수       | 기능               |\n",
    "|------------|--------------------|\n",
    "| head()     | 앞부분 출력        |\n",
    "| tail()     | 뒷부분 출력        |\n",
    "| shape      | 행, 열 개수 출력   |\n",
    "| info()     | 변수 속성 출력     |\n",
    "| describe() | 요약 통계량 출력   |\n"
   ]
  },
  {
   "cell_type": "code",
   "execution_count": null,
   "id": "85461ab5",
   "metadata": {
    "eval": false,
    "id": "85461ab5"
   },
   "outputs": [],
   "source": [
    "import pandas as pd\n",
    "exam = pd.read_csv('./Data/exam.csv')"
   ]
  },
  {
   "cell_type": "markdown",
   "id": "c53bf631-d9ca-4bf5-850a-b2713713825a",
   "metadata": {
    "id": "c53bf631-d9ca-4bf5-850a-b2713713825a"
   },
   "source": [
    "### ⌨️ exam 데이터 파악하기"
   ]
  },
  {
   "cell_type": "markdown",
   "id": "d9e7d9b1-f243-40cc-bf2c-c5e608f683f9",
   "metadata": {
    "id": "d9e7d9b1-f243-40cc-bf2c-c5e608f683f9"
   },
   "source": [
    "#### `head()` - 데이터 앞부분 확인하기"
   ]
  },
  {
   "cell_type": "code",
   "execution_count": null,
   "id": "94b614ff",
   "metadata": {
    "id": "94b614ff",
    "lines_to_next_cell": 0,
    "outputId": "7e7b3af1-d0fa-49f6-a210-d91e9bd760a9"
   },
   "outputs": [
    {
     "data": {
      "text/html": [
       "<div>\n",
       "<style scoped>\n",
       "    .dataframe tbody tr th:only-of-type {\n",
       "        vertical-align: middle;\n",
       "    }\n",
       "\n",
       "    .dataframe tbody tr th {\n",
       "        vertical-align: top;\n",
       "    }\n",
       "\n",
       "    .dataframe thead th {\n",
       "        text-align: right;\n",
       "    }\n",
       "</style>\n",
       "<table border=\"1\" class=\"dataframe\">\n",
       "  <thead>\n",
       "    <tr style=\"text-align: right;\">\n",
       "      <th></th>\n",
       "      <th>id</th>\n",
       "      <th>nclass</th>\n",
       "      <th>math</th>\n",
       "      <th>english</th>\n",
       "      <th>science</th>\n",
       "    </tr>\n",
       "  </thead>\n",
       "  <tbody>\n",
       "    <tr>\n",
       "      <th>0</th>\n",
       "      <td>1</td>\n",
       "      <td>1</td>\n",
       "      <td>50</td>\n",
       "      <td>98</td>\n",
       "      <td>50</td>\n",
       "    </tr>\n",
       "    <tr>\n",
       "      <th>1</th>\n",
       "      <td>2</td>\n",
       "      <td>1</td>\n",
       "      <td>60</td>\n",
       "      <td>97</td>\n",
       "      <td>60</td>\n",
       "    </tr>\n",
       "    <tr>\n",
       "      <th>2</th>\n",
       "      <td>3</td>\n",
       "      <td>1</td>\n",
       "      <td>45</td>\n",
       "      <td>86</td>\n",
       "      <td>78</td>\n",
       "    </tr>\n",
       "    <tr>\n",
       "      <th>3</th>\n",
       "      <td>4</td>\n",
       "      <td>1</td>\n",
       "      <td>30</td>\n",
       "      <td>98</td>\n",
       "      <td>58</td>\n",
       "    </tr>\n",
       "    <tr>\n",
       "      <th>4</th>\n",
       "      <td>5</td>\n",
       "      <td>2</td>\n",
       "      <td>25</td>\n",
       "      <td>80</td>\n",
       "      <td>65</td>\n",
       "    </tr>\n",
       "  </tbody>\n",
       "</table>\n",
       "</div>"
      ],
      "text/plain": [
       "   id  nclass  math  english  science\n",
       "0   1       1    50       98       50\n",
       "1   2       1    60       97       60\n",
       "2   3       1    45       86       78\n",
       "3   4       1    30       98       58\n",
       "4   5       2    25       80       65"
      ]
     },
     "execution_count": 4,
     "metadata": {},
     "output_type": "execute_result"
    }
   ],
   "source": [
    "exam.head()  # 앞에서부터 5행까지 출력"
   ]
  },
  {
   "cell_type": "code",
   "execution_count": null,
   "id": "d1c94595",
   "metadata": {
    "id": "d1c94595",
    "lines_to_next_cell": 0,
    "outputId": "41d11a33-0eda-42c3-c99c-11921023ab14"
   },
   "outputs": [
    {
     "data": {
      "text/html": [
       "<div>\n",
       "<style scoped>\n",
       "    .dataframe tbody tr th:only-of-type {\n",
       "        vertical-align: middle;\n",
       "    }\n",
       "\n",
       "    .dataframe tbody tr th {\n",
       "        vertical-align: top;\n",
       "    }\n",
       "\n",
       "    .dataframe thead th {\n",
       "        text-align: right;\n",
       "    }\n",
       "</style>\n",
       "<table border=\"1\" class=\"dataframe\">\n",
       "  <thead>\n",
       "    <tr style=\"text-align: right;\">\n",
       "      <th></th>\n",
       "      <th>id</th>\n",
       "      <th>nclass</th>\n",
       "      <th>math</th>\n",
       "      <th>english</th>\n",
       "      <th>science</th>\n",
       "    </tr>\n",
       "  </thead>\n",
       "  <tbody>\n",
       "    <tr>\n",
       "      <th>0</th>\n",
       "      <td>1</td>\n",
       "      <td>1</td>\n",
       "      <td>50</td>\n",
       "      <td>98</td>\n",
       "      <td>50</td>\n",
       "    </tr>\n",
       "    <tr>\n",
       "      <th>1</th>\n",
       "      <td>2</td>\n",
       "      <td>1</td>\n",
       "      <td>60</td>\n",
       "      <td>97</td>\n",
       "      <td>60</td>\n",
       "    </tr>\n",
       "    <tr>\n",
       "      <th>2</th>\n",
       "      <td>3</td>\n",
       "      <td>1</td>\n",
       "      <td>45</td>\n",
       "      <td>86</td>\n",
       "      <td>78</td>\n",
       "    </tr>\n",
       "    <tr>\n",
       "      <th>3</th>\n",
       "      <td>4</td>\n",
       "      <td>1</td>\n",
       "      <td>30</td>\n",
       "      <td>98</td>\n",
       "      <td>58</td>\n",
       "    </tr>\n",
       "    <tr>\n",
       "      <th>4</th>\n",
       "      <td>5</td>\n",
       "      <td>2</td>\n",
       "      <td>25</td>\n",
       "      <td>80</td>\n",
       "      <td>65</td>\n",
       "    </tr>\n",
       "    <tr>\n",
       "      <th>5</th>\n",
       "      <td>6</td>\n",
       "      <td>2</td>\n",
       "      <td>50</td>\n",
       "      <td>89</td>\n",
       "      <td>98</td>\n",
       "    </tr>\n",
       "    <tr>\n",
       "      <th>6</th>\n",
       "      <td>7</td>\n",
       "      <td>2</td>\n",
       "      <td>80</td>\n",
       "      <td>90</td>\n",
       "      <td>45</td>\n",
       "    </tr>\n",
       "    <tr>\n",
       "      <th>7</th>\n",
       "      <td>8</td>\n",
       "      <td>2</td>\n",
       "      <td>90</td>\n",
       "      <td>78</td>\n",
       "      <td>25</td>\n",
       "    </tr>\n",
       "    <tr>\n",
       "      <th>8</th>\n",
       "      <td>9</td>\n",
       "      <td>3</td>\n",
       "      <td>20</td>\n",
       "      <td>98</td>\n",
       "      <td>15</td>\n",
       "    </tr>\n",
       "    <tr>\n",
       "      <th>9</th>\n",
       "      <td>10</td>\n",
       "      <td>3</td>\n",
       "      <td>50</td>\n",
       "      <td>98</td>\n",
       "      <td>45</td>\n",
       "    </tr>\n",
       "  </tbody>\n",
       "</table>\n",
       "</div>"
      ],
      "text/plain": [
       "   id  nclass  math  english  science\n",
       "0   1       1    50       98       50\n",
       "1   2       1    60       97       60\n",
       "2   3       1    45       86       78\n",
       "3   4       1    30       98       58\n",
       "4   5       2    25       80       65\n",
       "5   6       2    50       89       98\n",
       "6   7       2    80       90       45\n",
       "7   8       2    90       78       25\n",
       "8   9       3    20       98       15\n",
       "9  10       3    50       98       45"
      ]
     },
     "execution_count": 5,
     "metadata": {},
     "output_type": "execute_result"
    }
   ],
   "source": [
    "exam.head(10)  # 앞에서부터 10행까지 출력"
   ]
  },
  {
   "cell_type": "markdown",
   "id": "9e06c6e2",
   "metadata": {
    "id": "9e06c6e2"
   },
   "source": [
    "#### `tail()` - 데이터 뒷부분 확인하기\n",
    "\n"
   ]
  },
  {
   "cell_type": "code",
   "execution_count": null,
   "id": "62233158",
   "metadata": {
    "id": "62233158",
    "lines_to_next_cell": 0,
    "outputId": "f40c6d35-1005-4382-f923-01602de08371"
   },
   "outputs": [
    {
     "data": {
      "text/html": [
       "<div>\n",
       "<style scoped>\n",
       "    .dataframe tbody tr th:only-of-type {\n",
       "        vertical-align: middle;\n",
       "    }\n",
       "\n",
       "    .dataframe tbody tr th {\n",
       "        vertical-align: top;\n",
       "    }\n",
       "\n",
       "    .dataframe thead th {\n",
       "        text-align: right;\n",
       "    }\n",
       "</style>\n",
       "<table border=\"1\" class=\"dataframe\">\n",
       "  <thead>\n",
       "    <tr style=\"text-align: right;\">\n",
       "      <th></th>\n",
       "      <th>id</th>\n",
       "      <th>nclass</th>\n",
       "      <th>math</th>\n",
       "      <th>english</th>\n",
       "      <th>science</th>\n",
       "    </tr>\n",
       "  </thead>\n",
       "  <tbody>\n",
       "    <tr>\n",
       "      <th>15</th>\n",
       "      <td>16</td>\n",
       "      <td>4</td>\n",
       "      <td>58</td>\n",
       "      <td>98</td>\n",
       "      <td>65</td>\n",
       "    </tr>\n",
       "    <tr>\n",
       "      <th>16</th>\n",
       "      <td>17</td>\n",
       "      <td>5</td>\n",
       "      <td>65</td>\n",
       "      <td>68</td>\n",
       "      <td>98</td>\n",
       "    </tr>\n",
       "    <tr>\n",
       "      <th>17</th>\n",
       "      <td>18</td>\n",
       "      <td>5</td>\n",
       "      <td>80</td>\n",
       "      <td>78</td>\n",
       "      <td>90</td>\n",
       "    </tr>\n",
       "    <tr>\n",
       "      <th>18</th>\n",
       "      <td>19</td>\n",
       "      <td>5</td>\n",
       "      <td>89</td>\n",
       "      <td>68</td>\n",
       "      <td>87</td>\n",
       "    </tr>\n",
       "    <tr>\n",
       "      <th>19</th>\n",
       "      <td>20</td>\n",
       "      <td>5</td>\n",
       "      <td>78</td>\n",
       "      <td>83</td>\n",
       "      <td>58</td>\n",
       "    </tr>\n",
       "  </tbody>\n",
       "</table>\n",
       "</div>"
      ],
      "text/plain": [
       "    id  nclass  math  english  science\n",
       "15  16       4    58       98       65\n",
       "16  17       5    65       68       98\n",
       "17  18       5    80       78       90\n",
       "18  19       5    89       68       87\n",
       "19  20       5    78       83       58"
      ]
     },
     "execution_count": 6,
     "metadata": {},
     "output_type": "execute_result"
    }
   ],
   "source": [
    "exam.tail()  # 뒤에서부터 5행까지 출력"
   ]
  },
  {
   "cell_type": "code",
   "execution_count": null,
   "id": "e5d65ebb",
   "metadata": {
    "id": "e5d65ebb",
    "lines_to_next_cell": 0,
    "outputId": "4d12963c-c2f1-4eac-dd4d-89aa048f16c4"
   },
   "outputs": [
    {
     "data": {
      "text/html": [
       "<div>\n",
       "<style scoped>\n",
       "    .dataframe tbody tr th:only-of-type {\n",
       "        vertical-align: middle;\n",
       "    }\n",
       "\n",
       "    .dataframe tbody tr th {\n",
       "        vertical-align: top;\n",
       "    }\n",
       "\n",
       "    .dataframe thead th {\n",
       "        text-align: right;\n",
       "    }\n",
       "</style>\n",
       "<table border=\"1\" class=\"dataframe\">\n",
       "  <thead>\n",
       "    <tr style=\"text-align: right;\">\n",
       "      <th></th>\n",
       "      <th>id</th>\n",
       "      <th>nclass</th>\n",
       "      <th>math</th>\n",
       "      <th>english</th>\n",
       "      <th>science</th>\n",
       "    </tr>\n",
       "  </thead>\n",
       "  <tbody>\n",
       "    <tr>\n",
       "      <th>10</th>\n",
       "      <td>11</td>\n",
       "      <td>3</td>\n",
       "      <td>65</td>\n",
       "      <td>65</td>\n",
       "      <td>65</td>\n",
       "    </tr>\n",
       "    <tr>\n",
       "      <th>11</th>\n",
       "      <td>12</td>\n",
       "      <td>3</td>\n",
       "      <td>45</td>\n",
       "      <td>85</td>\n",
       "      <td>32</td>\n",
       "    </tr>\n",
       "    <tr>\n",
       "      <th>12</th>\n",
       "      <td>13</td>\n",
       "      <td>4</td>\n",
       "      <td>46</td>\n",
       "      <td>98</td>\n",
       "      <td>65</td>\n",
       "    </tr>\n",
       "    <tr>\n",
       "      <th>13</th>\n",
       "      <td>14</td>\n",
       "      <td>4</td>\n",
       "      <td>48</td>\n",
       "      <td>87</td>\n",
       "      <td>12</td>\n",
       "    </tr>\n",
       "    <tr>\n",
       "      <th>14</th>\n",
       "      <td>15</td>\n",
       "      <td>4</td>\n",
       "      <td>75</td>\n",
       "      <td>56</td>\n",
       "      <td>78</td>\n",
       "    </tr>\n",
       "    <tr>\n",
       "      <th>15</th>\n",
       "      <td>16</td>\n",
       "      <td>4</td>\n",
       "      <td>58</td>\n",
       "      <td>98</td>\n",
       "      <td>65</td>\n",
       "    </tr>\n",
       "    <tr>\n",
       "      <th>16</th>\n",
       "      <td>17</td>\n",
       "      <td>5</td>\n",
       "      <td>65</td>\n",
       "      <td>68</td>\n",
       "      <td>98</td>\n",
       "    </tr>\n",
       "    <tr>\n",
       "      <th>17</th>\n",
       "      <td>18</td>\n",
       "      <td>5</td>\n",
       "      <td>80</td>\n",
       "      <td>78</td>\n",
       "      <td>90</td>\n",
       "    </tr>\n",
       "    <tr>\n",
       "      <th>18</th>\n",
       "      <td>19</td>\n",
       "      <td>5</td>\n",
       "      <td>89</td>\n",
       "      <td>68</td>\n",
       "      <td>87</td>\n",
       "    </tr>\n",
       "    <tr>\n",
       "      <th>19</th>\n",
       "      <td>20</td>\n",
       "      <td>5</td>\n",
       "      <td>78</td>\n",
       "      <td>83</td>\n",
       "      <td>58</td>\n",
       "    </tr>\n",
       "  </tbody>\n",
       "</table>\n",
       "</div>"
      ],
      "text/plain": [
       "    id  nclass  math  english  science\n",
       "10  11       3    65       65       65\n",
       "11  12       3    45       85       32\n",
       "12  13       4    46       98       65\n",
       "13  14       4    48       87       12\n",
       "14  15       4    75       56       78\n",
       "15  16       4    58       98       65\n",
       "16  17       5    65       68       98\n",
       "17  18       5    80       78       90\n",
       "18  19       5    89       68       87\n",
       "19  20       5    78       83       58"
      ]
     },
     "execution_count": 7,
     "metadata": {},
     "output_type": "execute_result"
    }
   ],
   "source": [
    "exam.tail(10)  # 뒤에서부터 10행까지 출력"
   ]
  },
  {
   "cell_type": "markdown",
   "id": "28a37e48",
   "metadata": {
    "id": "28a37e48"
   },
   "source": [
    "#### `shape` - 데이터가 몇 행, 몇 열로 구성되는지 알아보기"
   ]
  },
  {
   "cell_type": "code",
   "execution_count": null,
   "id": "15372227",
   "metadata": {
    "id": "15372227",
    "lines_to_next_cell": 0,
    "outputId": "925a194a-ff92-4484-95cb-002fcd0c8252"
   },
   "outputs": [
    {
     "data": {
      "text/plain": [
       "(20, 5)"
      ]
     },
     "execution_count": 8,
     "metadata": {},
     "output_type": "execute_result"
    }
   ],
   "source": [
    "exam.shape"
   ]
  },
  {
   "cell_type": "markdown",
   "id": "aa9c2857",
   "metadata": {
    "id": "aa9c2857"
   },
   "source": [
    "#### `info()` - 속성 파악하기"
   ]
  },
  {
   "cell_type": "code",
   "execution_count": null,
   "id": "f331493d",
   "metadata": {
    "id": "f331493d",
    "lines_to_next_cell": 0,
    "outputId": "ede427c7-67e0-41ce-bc46-eed7546d1435"
   },
   "outputs": [
    {
     "name": "stdout",
     "output_type": "stream",
     "text": [
      "<class 'pandas.core.frame.DataFrame'>\n",
      "RangeIndex: 20 entries, 0 to 19\n",
      "Data columns (total 5 columns):\n",
      " #   Column   Non-Null Count  Dtype\n",
      "---  ------   --------------  -----\n",
      " 0   id       20 non-null     int64\n",
      " 1   nclass   20 non-null     int64\n",
      " 2   math     20 non-null     int64\n",
      " 3   english  20 non-null     int64\n",
      " 4   science  20 non-null     int64\n",
      "dtypes: int64(5)\n",
      "memory usage: 928.0 bytes\n"
     ]
    }
   ],
   "source": [
    "exam.info()"
   ]
  },
  {
   "cell_type": "markdown",
   "id": "2f1e859d",
   "metadata": {
    "id": "2f1e859d"
   },
   "source": [
    "#### `describe()` - 요약 통계량 구하기\n",
    "![20250512_150125.png](data:image/png;base64,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)"
   ]
  },
  {
   "cell_type": "code",
   "execution_count": null,
   "id": "a2c066a7",
   "metadata": {
    "id": "a2c066a7",
    "lines_to_next_cell": 0,
    "outputId": "d4b4938b-fca7-4025-f37a-b0f33047497c"
   },
   "outputs": [
    {
     "data": {
      "text/html": [
       "<div>\n",
       "<style scoped>\n",
       "    .dataframe tbody tr th:only-of-type {\n",
       "        vertical-align: middle;\n",
       "    }\n",
       "\n",
       "    .dataframe tbody tr th {\n",
       "        vertical-align: top;\n",
       "    }\n",
       "\n",
       "    .dataframe thead th {\n",
       "        text-align: right;\n",
       "    }\n",
       "</style>\n",
       "<table border=\"1\" class=\"dataframe\">\n",
       "  <thead>\n",
       "    <tr style=\"text-align: right;\">\n",
       "      <th></th>\n",
       "      <th>id</th>\n",
       "      <th>nclass</th>\n",
       "      <th>math</th>\n",
       "      <th>english</th>\n",
       "      <th>science</th>\n",
       "    </tr>\n",
       "  </thead>\n",
       "  <tbody>\n",
       "    <tr>\n",
       "      <th>count</th>\n",
       "      <td>20.00000</td>\n",
       "      <td>20.000000</td>\n",
       "      <td>20.000000</td>\n",
       "      <td>20.000000</td>\n",
       "      <td>20.000000</td>\n",
       "    </tr>\n",
       "    <tr>\n",
       "      <th>mean</th>\n",
       "      <td>10.50000</td>\n",
       "      <td>3.000000</td>\n",
       "      <td>57.450000</td>\n",
       "      <td>84.900000</td>\n",
       "      <td>59.450000</td>\n",
       "    </tr>\n",
       "    <tr>\n",
       "      <th>std</th>\n",
       "      <td>5.91608</td>\n",
       "      <td>1.450953</td>\n",
       "      <td>20.299015</td>\n",
       "      <td>12.875517</td>\n",
       "      <td>25.292968</td>\n",
       "    </tr>\n",
       "    <tr>\n",
       "      <th>min</th>\n",
       "      <td>1.00000</td>\n",
       "      <td>1.000000</td>\n",
       "      <td>20.000000</td>\n",
       "      <td>56.000000</td>\n",
       "      <td>12.000000</td>\n",
       "    </tr>\n",
       "    <tr>\n",
       "      <th>25%</th>\n",
       "      <td>5.75000</td>\n",
       "      <td>2.000000</td>\n",
       "      <td>45.750000</td>\n",
       "      <td>78.000000</td>\n",
       "      <td>45.000000</td>\n",
       "    </tr>\n",
       "    <tr>\n",
       "      <th>50%</th>\n",
       "      <td>10.50000</td>\n",
       "      <td>3.000000</td>\n",
       "      <td>54.000000</td>\n",
       "      <td>86.500000</td>\n",
       "      <td>62.500000</td>\n",
       "    </tr>\n",
       "    <tr>\n",
       "      <th>75%</th>\n",
       "      <td>15.25000</td>\n",
       "      <td>4.000000</td>\n",
       "      <td>75.750000</td>\n",
       "      <td>98.000000</td>\n",
       "      <td>78.000000</td>\n",
       "    </tr>\n",
       "    <tr>\n",
       "      <th>max</th>\n",
       "      <td>20.00000</td>\n",
       "      <td>5.000000</td>\n",
       "      <td>90.000000</td>\n",
       "      <td>98.000000</td>\n",
       "      <td>98.000000</td>\n",
       "    </tr>\n",
       "  </tbody>\n",
       "</table>\n",
       "</div>"
      ],
      "text/plain": [
       "             id     nclass       math    english    science\n",
       "count  20.00000  20.000000  20.000000  20.000000  20.000000\n",
       "mean   10.50000   3.000000  57.450000  84.900000  59.450000\n",
       "std     5.91608   1.450953  20.299015  12.875517  25.292968\n",
       "min     1.00000   1.000000  20.000000  56.000000  12.000000\n",
       "25%     5.75000   2.000000  45.750000  78.000000  45.000000\n",
       "50%    10.50000   3.000000  54.000000  86.500000  62.500000\n",
       "75%    15.25000   4.000000  75.750000  98.000000  78.000000\n",
       "max    20.00000   5.000000  90.000000  98.000000  98.000000"
      ]
     },
     "execution_count": 10,
     "metadata": {},
     "output_type": "execute_result"
    }
   ],
   "source": [
    "exam.describe()"
   ]
  },
  {
   "cell_type": "markdown",
   "id": "667b8e48",
   "metadata": {
    "id": "667b8e48"
   },
   "source": [
    "### ⌨️ mpg 데이터 파악하기\n",
    "mpg(mile per gallon) 데이터 : 미국 환경 보호국에서 공개한 데이터로 1999~2008년 미국에 출시된 자동차 234종의 정보를 담고 있습니다."
   ]
  },
  {
   "cell_type": "code",
   "execution_count": null,
   "id": "483d25a6",
   "metadata": {
    "eval": false,
    "id": "483d25a6"
   },
   "outputs": [],
   "source": [
    "# mpg 데이터 불러오기\n",
    "mpg = pd.read_csv('./Data/mpg.csv')"
   ]
  },
  {
   "cell_type": "code",
   "execution_count": null,
   "id": "131c7530",
   "metadata": {
    "id": "131c7530",
    "lines_to_next_cell": 0,
    "outputId": "830c1486-e6ac-45c3-b404-09794bfcffbb"
   },
   "outputs": [
    {
     "data": {
      "text/html": [
       "<div>\n",
       "<style scoped>\n",
       "    .dataframe tbody tr th:only-of-type {\n",
       "        vertical-align: middle;\n",
       "    }\n",
       "\n",
       "    .dataframe tbody tr th {\n",
       "        vertical-align: top;\n",
       "    }\n",
       "\n",
       "    .dataframe thead th {\n",
       "        text-align: right;\n",
       "    }\n",
       "</style>\n",
       "<table border=\"1\" class=\"dataframe\">\n",
       "  <thead>\n",
       "    <tr style=\"text-align: right;\">\n",
       "      <th></th>\n",
       "      <th>manufacturer</th>\n",
       "      <th>model</th>\n",
       "      <th>displ</th>\n",
       "      <th>year</th>\n",
       "      <th>cyl</th>\n",
       "      <th>trans</th>\n",
       "      <th>drv</th>\n",
       "      <th>cty</th>\n",
       "      <th>hwy</th>\n",
       "      <th>fl</th>\n",
       "      <th>category</th>\n",
       "    </tr>\n",
       "  </thead>\n",
       "  <tbody>\n",
       "    <tr>\n",
       "      <th>0</th>\n",
       "      <td>audi</td>\n",
       "      <td>a4</td>\n",
       "      <td>1.8</td>\n",
       "      <td>1999</td>\n",
       "      <td>4</td>\n",
       "      <td>auto(l5)</td>\n",
       "      <td>f</td>\n",
       "      <td>18</td>\n",
       "      <td>29</td>\n",
       "      <td>p</td>\n",
       "      <td>compact</td>\n",
       "    </tr>\n",
       "    <tr>\n",
       "      <th>1</th>\n",
       "      <td>audi</td>\n",
       "      <td>a4</td>\n",
       "      <td>1.8</td>\n",
       "      <td>1999</td>\n",
       "      <td>4</td>\n",
       "      <td>manual(m5)</td>\n",
       "      <td>f</td>\n",
       "      <td>21</td>\n",
       "      <td>29</td>\n",
       "      <td>p</td>\n",
       "      <td>compact</td>\n",
       "    </tr>\n",
       "    <tr>\n",
       "      <th>2</th>\n",
       "      <td>audi</td>\n",
       "      <td>a4</td>\n",
       "      <td>2.0</td>\n",
       "      <td>2008</td>\n",
       "      <td>4</td>\n",
       "      <td>manual(m6)</td>\n",
       "      <td>f</td>\n",
       "      <td>20</td>\n",
       "      <td>31</td>\n",
       "      <td>p</td>\n",
       "      <td>compact</td>\n",
       "    </tr>\n",
       "    <tr>\n",
       "      <th>3</th>\n",
       "      <td>audi</td>\n",
       "      <td>a4</td>\n",
       "      <td>2.0</td>\n",
       "      <td>2008</td>\n",
       "      <td>4</td>\n",
       "      <td>auto(av)</td>\n",
       "      <td>f</td>\n",
       "      <td>21</td>\n",
       "      <td>30</td>\n",
       "      <td>p</td>\n",
       "      <td>compact</td>\n",
       "    </tr>\n",
       "    <tr>\n",
       "      <th>4</th>\n",
       "      <td>audi</td>\n",
       "      <td>a4</td>\n",
       "      <td>2.8</td>\n",
       "      <td>1999</td>\n",
       "      <td>6</td>\n",
       "      <td>auto(l5)</td>\n",
       "      <td>f</td>\n",
       "      <td>16</td>\n",
       "      <td>26</td>\n",
       "      <td>p</td>\n",
       "      <td>compact</td>\n",
       "    </tr>\n",
       "  </tbody>\n",
       "</table>\n",
       "</div>"
      ],
      "text/plain": [
       "  manufacturer model  displ  year  cyl       trans drv  cty  hwy fl category\n",
       "0         audi    a4    1.8  1999    4    auto(l5)   f   18   29  p  compact\n",
       "1         audi    a4    1.8  1999    4  manual(m5)   f   21   29  p  compact\n",
       "2         audi    a4    2.0  2008    4  manual(m6)   f   20   31  p  compact\n",
       "3         audi    a4    2.0  2008    4    auto(av)   f   21   30  p  compact\n",
       "4         audi    a4    2.8  1999    6    auto(l5)   f   16   26  p  compact"
      ]
     },
     "execution_count": 12,
     "metadata": {},
     "output_type": "execute_result"
    }
   ],
   "source": [
    "mpg.head()  # mpg 앞부분 확인"
   ]
  },
  {
   "cell_type": "code",
   "execution_count": null,
   "id": "ce12b1cd",
   "metadata": {
    "id": "ce12b1cd",
    "outputId": "5617403a-f9a0-4e18-f909-4b3f36cbc040"
   },
   "outputs": [
    {
     "data": {
      "text/html": [
       "<div>\n",
       "<style scoped>\n",
       "    .dataframe tbody tr th:only-of-type {\n",
       "        vertical-align: middle;\n",
       "    }\n",
       "\n",
       "    .dataframe tbody tr th {\n",
       "        vertical-align: top;\n",
       "    }\n",
       "\n",
       "    .dataframe thead th {\n",
       "        text-align: right;\n",
       "    }\n",
       "</style>\n",
       "<table border=\"1\" class=\"dataframe\">\n",
       "  <thead>\n",
       "    <tr style=\"text-align: right;\">\n",
       "      <th></th>\n",
       "      <th>manufacturer</th>\n",
       "      <th>model</th>\n",
       "      <th>displ</th>\n",
       "      <th>year</th>\n",
       "      <th>cyl</th>\n",
       "      <th>trans</th>\n",
       "      <th>drv</th>\n",
       "      <th>cty</th>\n",
       "      <th>hwy</th>\n",
       "      <th>fl</th>\n",
       "      <th>category</th>\n",
       "    </tr>\n",
       "  </thead>\n",
       "  <tbody>\n",
       "    <tr>\n",
       "      <th>229</th>\n",
       "      <td>volkswagen</td>\n",
       "      <td>passat</td>\n",
       "      <td>2.0</td>\n",
       "      <td>2008</td>\n",
       "      <td>4</td>\n",
       "      <td>auto(s6)</td>\n",
       "      <td>f</td>\n",
       "      <td>19</td>\n",
       "      <td>28</td>\n",
       "      <td>p</td>\n",
       "      <td>midsize</td>\n",
       "    </tr>\n",
       "    <tr>\n",
       "      <th>230</th>\n",
       "      <td>volkswagen</td>\n",
       "      <td>passat</td>\n",
       "      <td>2.0</td>\n",
       "      <td>2008</td>\n",
       "      <td>4</td>\n",
       "      <td>manual(m6)</td>\n",
       "      <td>f</td>\n",
       "      <td>21</td>\n",
       "      <td>29</td>\n",
       "      <td>p</td>\n",
       "      <td>midsize</td>\n",
       "    </tr>\n",
       "    <tr>\n",
       "      <th>231</th>\n",
       "      <td>volkswagen</td>\n",
       "      <td>passat</td>\n",
       "      <td>2.8</td>\n",
       "      <td>1999</td>\n",
       "      <td>6</td>\n",
       "      <td>auto(l5)</td>\n",
       "      <td>f</td>\n",
       "      <td>16</td>\n",
       "      <td>26</td>\n",
       "      <td>p</td>\n",
       "      <td>midsize</td>\n",
       "    </tr>\n",
       "    <tr>\n",
       "      <th>232</th>\n",
       "      <td>volkswagen</td>\n",
       "      <td>passat</td>\n",
       "      <td>2.8</td>\n",
       "      <td>1999</td>\n",
       "      <td>6</td>\n",
       "      <td>manual(m5)</td>\n",
       "      <td>f</td>\n",
       "      <td>18</td>\n",
       "      <td>26</td>\n",
       "      <td>p</td>\n",
       "      <td>midsize</td>\n",
       "    </tr>\n",
       "    <tr>\n",
       "      <th>233</th>\n",
       "      <td>volkswagen</td>\n",
       "      <td>passat</td>\n",
       "      <td>3.6</td>\n",
       "      <td>2008</td>\n",
       "      <td>6</td>\n",
       "      <td>auto(s6)</td>\n",
       "      <td>f</td>\n",
       "      <td>17</td>\n",
       "      <td>26</td>\n",
       "      <td>p</td>\n",
       "      <td>midsize</td>\n",
       "    </tr>\n",
       "  </tbody>\n",
       "</table>\n",
       "</div>"
      ],
      "text/plain": [
       "    manufacturer   model  displ  year  cyl       trans drv  cty  hwy fl  \\\n",
       "229   volkswagen  passat    2.0  2008    4    auto(s6)   f   19   28  p   \n",
       "230   volkswagen  passat    2.0  2008    4  manual(m6)   f   21   29  p   \n",
       "231   volkswagen  passat    2.8  1999    6    auto(l5)   f   16   26  p   \n",
       "232   volkswagen  passat    2.8  1999    6  manual(m5)   f   18   26  p   \n",
       "233   volkswagen  passat    3.6  2008    6    auto(s6)   f   17   26  p   \n",
       "\n",
       "    category  \n",
       "229  midsize  \n",
       "230  midsize  \n",
       "231  midsize  \n",
       "232  midsize  \n",
       "233  midsize  "
      ]
     },
     "execution_count": 13,
     "metadata": {},
     "output_type": "execute_result"
    }
   ],
   "source": [
    "mpg.tail()  # mpg 뒷부분 확인"
   ]
  },
  {
   "cell_type": "code",
   "execution_count": null,
   "id": "90807449",
   "metadata": {
    "id": "90807449",
    "lines_to_next_cell": 0,
    "outputId": "8ebe350a-4bfc-4fe5-a2d2-47d826134a05"
   },
   "outputs": [
    {
     "data": {
      "text/plain": [
       "(234, 11)"
      ]
     },
     "execution_count": 14,
     "metadata": {},
     "output_type": "execute_result"
    }
   ],
   "source": [
    "mpg.shape  # 행, 열 출력"
   ]
  },
  {
   "cell_type": "code",
   "execution_count": null,
   "id": "52e54496",
   "metadata": {
    "id": "52e54496",
    "lines_to_next_cell": 0,
    "outputId": "90352b60-77e8-482a-d1d2-3d4f151c95fa"
   },
   "outputs": [
    {
     "name": "stdout",
     "output_type": "stream",
     "text": [
      "<class 'pandas.core.frame.DataFrame'>\n",
      "RangeIndex: 234 entries, 0 to 233\n",
      "Data columns (total 11 columns):\n",
      " #   Column        Non-Null Count  Dtype  \n",
      "---  ------        --------------  -----  \n",
      " 0   manufacturer  234 non-null    object \n",
      " 1   model         234 non-null    object \n",
      " 2   displ         234 non-null    float64\n",
      " 3   year          234 non-null    int64  \n",
      " 4   cyl           234 non-null    int64  \n",
      " 5   trans         234 non-null    object \n",
      " 6   drv           234 non-null    object \n",
      " 7   cty           234 non-null    int64  \n",
      " 8   hwy           234 non-null    int64  \n",
      " 9   fl            234 non-null    object \n",
      " 10  category      234 non-null    object \n",
      "dtypes: float64(1), int64(4), object(6)\n",
      "memory usage: 20.2+ KB\n"
     ]
    }
   ],
   "source": [
    "mpg.info()  # 데이터 속성 확인"
   ]
  },
  {
   "cell_type": "markdown",
   "id": "_SSs6pGlGNT5",
   "metadata": {
    "id": "_SSs6pGlGNT5"
   },
   "source": [
    "![20250512_150500.png](data:image/png;base64,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)"
   ]
  },
  {
   "cell_type": "code",
   "execution_count": null,
   "id": "55836172",
   "metadata": {
    "id": "55836172",
    "lines_to_next_cell": 0,
    "outputId": "33483451-a35a-4ca8-a99a-bbcf1d1b424b"
   },
   "outputs": [
    {
     "data": {
      "text/html": [
       "<div>\n",
       "<style scoped>\n",
       "    .dataframe tbody tr th:only-of-type {\n",
       "        vertical-align: middle;\n",
       "    }\n",
       "\n",
       "    .dataframe tbody tr th {\n",
       "        vertical-align: top;\n",
       "    }\n",
       "\n",
       "    .dataframe thead th {\n",
       "        text-align: right;\n",
       "    }\n",
       "</style>\n",
       "<table border=\"1\" class=\"dataframe\">\n",
       "  <thead>\n",
       "    <tr style=\"text-align: right;\">\n",
       "      <th></th>\n",
       "      <th>displ</th>\n",
       "      <th>year</th>\n",
       "      <th>cyl</th>\n",
       "      <th>cty</th>\n",
       "      <th>hwy</th>\n",
       "    </tr>\n",
       "  </thead>\n",
       "  <tbody>\n",
       "    <tr>\n",
       "      <th>count</th>\n",
       "      <td>234.000000</td>\n",
       "      <td>234.000000</td>\n",
       "      <td>234.000000</td>\n",
       "      <td>234.000000</td>\n",
       "      <td>234.000000</td>\n",
       "    </tr>\n",
       "    <tr>\n",
       "      <th>mean</th>\n",
       "      <td>3.471795</td>\n",
       "      <td>2003.500000</td>\n",
       "      <td>5.888889</td>\n",
       "      <td>16.858974</td>\n",
       "      <td>23.440171</td>\n",
       "    </tr>\n",
       "    <tr>\n",
       "      <th>std</th>\n",
       "      <td>1.291959</td>\n",
       "      <td>4.509646</td>\n",
       "      <td>1.611534</td>\n",
       "      <td>4.255946</td>\n",
       "      <td>5.954643</td>\n",
       "    </tr>\n",
       "    <tr>\n",
       "      <th>min</th>\n",
       "      <td>1.600000</td>\n",
       "      <td>1999.000000</td>\n",
       "      <td>4.000000</td>\n",
       "      <td>9.000000</td>\n",
       "      <td>12.000000</td>\n",
       "    </tr>\n",
       "    <tr>\n",
       "      <th>25%</th>\n",
       "      <td>2.400000</td>\n",
       "      <td>1999.000000</td>\n",
       "      <td>4.000000</td>\n",
       "      <td>14.000000</td>\n",
       "      <td>18.000000</td>\n",
       "    </tr>\n",
       "    <tr>\n",
       "      <th>50%</th>\n",
       "      <td>3.300000</td>\n",
       "      <td>2003.500000</td>\n",
       "      <td>6.000000</td>\n",
       "      <td>17.000000</td>\n",
       "      <td>24.000000</td>\n",
       "    </tr>\n",
       "    <tr>\n",
       "      <th>75%</th>\n",
       "      <td>4.600000</td>\n",
       "      <td>2008.000000</td>\n",
       "      <td>8.000000</td>\n",
       "      <td>19.000000</td>\n",
       "      <td>27.000000</td>\n",
       "    </tr>\n",
       "    <tr>\n",
       "      <th>max</th>\n",
       "      <td>7.000000</td>\n",
       "      <td>2008.000000</td>\n",
       "      <td>8.000000</td>\n",
       "      <td>35.000000</td>\n",
       "      <td>44.000000</td>\n",
       "    </tr>\n",
       "  </tbody>\n",
       "</table>\n",
       "</div>"
      ],
      "text/plain": [
       "            displ         year         cyl         cty         hwy\n",
       "count  234.000000   234.000000  234.000000  234.000000  234.000000\n",
       "mean     3.471795  2003.500000    5.888889   16.858974   23.440171\n",
       "std      1.291959     4.509646    1.611534    4.255946    5.954643\n",
       "min      1.600000  1999.000000    4.000000    9.000000   12.000000\n",
       "25%      2.400000  1999.000000    4.000000   14.000000   18.000000\n",
       "50%      3.300000  2003.500000    6.000000   17.000000   24.000000\n",
       "75%      4.600000  2008.000000    8.000000   19.000000   27.000000\n",
       "max      7.000000  2008.000000    8.000000   35.000000   44.000000"
      ]
     },
     "execution_count": 16,
     "metadata": {},
     "output_type": "execute_result"
    }
   ],
   "source": [
    "mpg.describe()  # 요약 통계량 출력(숫자만 요약통계 출력)"
   ]
  },
  {
   "cell_type": "code",
   "execution_count": null,
   "id": "b9a3c426",
   "metadata": {
    "id": "b9a3c426",
    "lines_to_next_cell": 0,
    "outputId": "91234936-65b0-428e-d260-56f1a1821d0d"
   },
   "outputs": [
    {
     "data": {
      "text/html": [
       "<div>\n",
       "<style scoped>\n",
       "    .dataframe tbody tr th:only-of-type {\n",
       "        vertical-align: middle;\n",
       "    }\n",
       "\n",
       "    .dataframe tbody tr th {\n",
       "        vertical-align: top;\n",
       "    }\n",
       "\n",
       "    .dataframe thead th {\n",
       "        text-align: right;\n",
       "    }\n",
       "</style>\n",
       "<table border=\"1\" class=\"dataframe\">\n",
       "  <thead>\n",
       "    <tr style=\"text-align: right;\">\n",
       "      <th></th>\n",
       "      <th>manufacturer</th>\n",
       "      <th>model</th>\n",
       "      <th>displ</th>\n",
       "      <th>year</th>\n",
       "      <th>cyl</th>\n",
       "      <th>trans</th>\n",
       "      <th>drv</th>\n",
       "      <th>cty</th>\n",
       "      <th>hwy</th>\n",
       "      <th>fl</th>\n",
       "      <th>category</th>\n",
       "    </tr>\n",
       "  </thead>\n",
       "  <tbody>\n",
       "    <tr>\n",
       "      <th>count</th>\n",
       "      <td>234</td>\n",
       "      <td>234</td>\n",
       "      <td>234.000000</td>\n",
       "      <td>234.000000</td>\n",
       "      <td>234.000000</td>\n",
       "      <td>234</td>\n",
       "      <td>234</td>\n",
       "      <td>234.000000</td>\n",
       "      <td>234.000000</td>\n",
       "      <td>234</td>\n",
       "      <td>234</td>\n",
       "    </tr>\n",
       "    <tr>\n",
       "      <th>unique</th>\n",
       "      <td>15</td>\n",
       "      <td>38</td>\n",
       "      <td>NaN</td>\n",
       "      <td>NaN</td>\n",
       "      <td>NaN</td>\n",
       "      <td>10</td>\n",
       "      <td>3</td>\n",
       "      <td>NaN</td>\n",
       "      <td>NaN</td>\n",
       "      <td>5</td>\n",
       "      <td>7</td>\n",
       "    </tr>\n",
       "    <tr>\n",
       "      <th>top</th>\n",
       "      <td>dodge</td>\n",
       "      <td>caravan 2wd</td>\n",
       "      <td>NaN</td>\n",
       "      <td>NaN</td>\n",
       "      <td>NaN</td>\n",
       "      <td>auto(l4)</td>\n",
       "      <td>f</td>\n",
       "      <td>NaN</td>\n",
       "      <td>NaN</td>\n",
       "      <td>r</td>\n",
       "      <td>suv</td>\n",
       "    </tr>\n",
       "    <tr>\n",
       "      <th>freq</th>\n",
       "      <td>37</td>\n",
       "      <td>11</td>\n",
       "      <td>NaN</td>\n",
       "      <td>NaN</td>\n",
       "      <td>NaN</td>\n",
       "      <td>83</td>\n",
       "      <td>106</td>\n",
       "      <td>NaN</td>\n",
       "      <td>NaN</td>\n",
       "      <td>168</td>\n",
       "      <td>62</td>\n",
       "    </tr>\n",
       "    <tr>\n",
       "      <th>mean</th>\n",
       "      <td>NaN</td>\n",
       "      <td>NaN</td>\n",
       "      <td>3.471795</td>\n",
       "      <td>2003.500000</td>\n",
       "      <td>5.888889</td>\n",
       "      <td>NaN</td>\n",
       "      <td>NaN</td>\n",
       "      <td>16.858974</td>\n",
       "      <td>23.440171</td>\n",
       "      <td>NaN</td>\n",
       "      <td>NaN</td>\n",
       "    </tr>\n",
       "    <tr>\n",
       "      <th>std</th>\n",
       "      <td>NaN</td>\n",
       "      <td>NaN</td>\n",
       "      <td>1.291959</td>\n",
       "      <td>4.509646</td>\n",
       "      <td>1.611534</td>\n",
       "      <td>NaN</td>\n",
       "      <td>NaN</td>\n",
       "      <td>4.255946</td>\n",
       "      <td>5.954643</td>\n",
       "      <td>NaN</td>\n",
       "      <td>NaN</td>\n",
       "    </tr>\n",
       "    <tr>\n",
       "      <th>min</th>\n",
       "      <td>NaN</td>\n",
       "      <td>NaN</td>\n",
       "      <td>1.600000</td>\n",
       "      <td>1999.000000</td>\n",
       "      <td>4.000000</td>\n",
       "      <td>NaN</td>\n",
       "      <td>NaN</td>\n",
       "      <td>9.000000</td>\n",
       "      <td>12.000000</td>\n",
       "      <td>NaN</td>\n",
       "      <td>NaN</td>\n",
       "    </tr>\n",
       "    <tr>\n",
       "      <th>25%</th>\n",
       "      <td>NaN</td>\n",
       "      <td>NaN</td>\n",
       "      <td>2.400000</td>\n",
       "      <td>1999.000000</td>\n",
       "      <td>4.000000</td>\n",
       "      <td>NaN</td>\n",
       "      <td>NaN</td>\n",
       "      <td>14.000000</td>\n",
       "      <td>18.000000</td>\n",
       "      <td>NaN</td>\n",
       "      <td>NaN</td>\n",
       "    </tr>\n",
       "    <tr>\n",
       "      <th>50%</th>\n",
       "      <td>NaN</td>\n",
       "      <td>NaN</td>\n",
       "      <td>3.300000</td>\n",
       "      <td>2003.500000</td>\n",
       "      <td>6.000000</td>\n",
       "      <td>NaN</td>\n",
       "      <td>NaN</td>\n",
       "      <td>17.000000</td>\n",
       "      <td>24.000000</td>\n",
       "      <td>NaN</td>\n",
       "      <td>NaN</td>\n",
       "    </tr>\n",
       "    <tr>\n",
       "      <th>75%</th>\n",
       "      <td>NaN</td>\n",
       "      <td>NaN</td>\n",
       "      <td>4.600000</td>\n",
       "      <td>2008.000000</td>\n",
       "      <td>8.000000</td>\n",
       "      <td>NaN</td>\n",
       "      <td>NaN</td>\n",
       "      <td>19.000000</td>\n",
       "      <td>27.000000</td>\n",
       "      <td>NaN</td>\n",
       "      <td>NaN</td>\n",
       "    </tr>\n",
       "    <tr>\n",
       "      <th>max</th>\n",
       "      <td>NaN</td>\n",
       "      <td>NaN</td>\n",
       "      <td>7.000000</td>\n",
       "      <td>2008.000000</td>\n",
       "      <td>8.000000</td>\n",
       "      <td>NaN</td>\n",
       "      <td>NaN</td>\n",
       "      <td>35.000000</td>\n",
       "      <td>44.000000</td>\n",
       "      <td>NaN</td>\n",
       "      <td>NaN</td>\n",
       "    </tr>\n",
       "  </tbody>\n",
       "</table>\n",
       "</div>"
      ],
      "text/plain": [
       "       manufacturer        model       displ         year         cyl  \\\n",
       "count           234          234  234.000000   234.000000  234.000000   \n",
       "unique           15           38         NaN          NaN         NaN   \n",
       "top           dodge  caravan 2wd         NaN          NaN         NaN   \n",
       "freq             37           11         NaN          NaN         NaN   \n",
       "mean            NaN          NaN    3.471795  2003.500000    5.888889   \n",
       "std             NaN          NaN    1.291959     4.509646    1.611534   \n",
       "min             NaN          NaN    1.600000  1999.000000    4.000000   \n",
       "25%             NaN          NaN    2.400000  1999.000000    4.000000   \n",
       "50%             NaN          NaN    3.300000  2003.500000    6.000000   \n",
       "75%             NaN          NaN    4.600000  2008.000000    8.000000   \n",
       "max             NaN          NaN    7.000000  2008.000000    8.000000   \n",
       "\n",
       "           trans  drv         cty         hwy   fl category  \n",
       "count        234  234  234.000000  234.000000  234      234  \n",
       "unique        10    3         NaN         NaN    5        7  \n",
       "top     auto(l4)    f         NaN         NaN    r      suv  \n",
       "freq          83  106         NaN         NaN  168       62  \n",
       "mean         NaN  NaN   16.858974   23.440171  NaN      NaN  \n",
       "std          NaN  NaN    4.255946    5.954643  NaN      NaN  \n",
       "min          NaN  NaN    9.000000   12.000000  NaN      NaN  \n",
       "25%          NaN  NaN   14.000000   18.000000  NaN      NaN  \n",
       "50%          NaN  NaN   17.000000   24.000000  NaN      NaN  \n",
       "75%          NaN  NaN   19.000000   27.000000  NaN      NaN  \n",
       "max          NaN  NaN   35.000000   44.000000  NaN      NaN  "
      ]
     },
     "execution_count": 17,
     "metadata": {},
     "output_type": "execute_result"
    }
   ],
   "source": [
    "mpg.describe(include = 'all')  # 문자 변수 요약 통계량 함께 출력"
   ]
  },
  {
   "cell_type": "markdown",
   "id": "fNcnqWnpRxg7",
   "metadata": {
    "id": "fNcnqWnpRxg7"
   },
   "source": [
    "* NaN은 결측치(누락된 값)을 의미합니다. unique, top, freq는 문자 변수로만 계산하므로 숫자 변수에는 NaN이 출력됩니다. 반대로 숫자를 이용해 계산하는 요약 통계량은 숫자 변수에만 출력되고 문자 변수에는 NaN이 출력됩니다."
   ]
  },
  {
   "cell_type": "markdown",
   "id": "89b110bb-1fc0-47ab-a2b8-2370f551f670",
   "metadata": {
    "id": "89b110bb-1fc0-47ab-a2b8-2370f551f670"
   },
   "source": [
    "### ⌨️ 함수와 메서드 차이 알아보기"
   ]
  },
  {
   "cell_type": "markdown",
   "id": "551d46d1",
   "metadata": {
    "id": "551d46d1"
   },
   "source": [
    "#### 1. 내장 함수"
   ]
  },
  {
   "cell_type": "code",
   "execution_count": null,
   "id": "eb4655ca",
   "metadata": {
    "eval": false,
    "id": "eb4655ca",
    "tags": [
     "raises-exception"
    ]
   },
   "outputs": [],
   "source": [
    "# sum(var)\n",
    "# max(var)"
   ]
  },
  {
   "cell_type": "markdown",
   "id": "21881465",
   "metadata": {
    "id": "21881465"
   },
   "source": [
    "#### 2. 패키지 함수"
   ]
  },
  {
   "cell_type": "code",
   "execution_count": null,
   "id": "86212f36",
   "metadata": {
    "eval": false,
    "id": "86212f36",
    "outputId": "4004a04b-951b-4d1f-cc3b-8d7081266f49"
   },
   "outputs": [
    {
     "data": {
      "text/html": [
       "<div>\n",
       "<style scoped>\n",
       "    .dataframe tbody tr th:only-of-type {\n",
       "        vertical-align: middle;\n",
       "    }\n",
       "\n",
       "    .dataframe tbody tr th {\n",
       "        vertical-align: top;\n",
       "    }\n",
       "\n",
       "    .dataframe thead th {\n",
       "        text-align: right;\n",
       "    }\n",
       "</style>\n",
       "<table border=\"1\" class=\"dataframe\">\n",
       "  <thead>\n",
       "    <tr style=\"text-align: right;\">\n",
       "      <th></th>\n",
       "      <th>x</th>\n",
       "    </tr>\n",
       "  </thead>\n",
       "  <tbody>\n",
       "    <tr>\n",
       "      <th>0</th>\n",
       "      <td>1</td>\n",
       "    </tr>\n",
       "    <tr>\n",
       "      <th>1</th>\n",
       "      <td>2</td>\n",
       "    </tr>\n",
       "    <tr>\n",
       "      <th>2</th>\n",
       "      <td>3</td>\n",
       "    </tr>\n",
       "  </tbody>\n",
       "</table>\n",
       "</div>"
      ],
      "text/plain": [
       "   x\n",
       "0  1\n",
       "1  2\n",
       "2  3"
      ]
     },
     "execution_count": 19,
     "metadata": {},
     "output_type": "execute_result"
    }
   ],
   "source": [
    "import pandas as pd\n",
    "pd.read_csv('./Data/exam.csv')\n",
    "pd.DataFrame({'x' : [1, 2, 3]})"
   ]
  },
  {
   "cell_type": "markdown",
   "id": "acb345bd",
   "metadata": {
    "id": "acb345bd"
   },
   "source": [
    "#### 3. 메서드"
   ]
  },
  {
   "cell_type": "code",
   "execution_count": null,
   "id": "7ee2bd91-70b8-4a57-9831-b0724bda7dc5",
   "metadata": {
    "eval": false,
    "id": "7ee2bd91-70b8-4a57-9831-b0724bda7dc5",
    "lines_to_next_cell": 0,
    "tags": [
     "raises-exception"
    ]
   },
   "outputs": [],
   "source": [
    "# df.head()\n",
    "# df.info()"
   ]
  },
  {
   "cell_type": "code",
   "execution_count": null,
   "id": "c6858272",
   "metadata": {
    "eval": false,
    "id": "c6858272",
    "outputId": "fdef17df-b8b1-4e2f-d0d1-855993b09d85"
   },
   "outputs": [
    {
     "data": {
      "text/html": [
       "<div>\n",
       "<style scoped>\n",
       "    .dataframe tbody tr th:only-of-type {\n",
       "        vertical-align: middle;\n",
       "    }\n",
       "\n",
       "    .dataframe tbody tr th {\n",
       "        vertical-align: top;\n",
       "    }\n",
       "\n",
       "    .dataframe thead th {\n",
       "        text-align: right;\n",
       "    }\n",
       "</style>\n",
       "<table border=\"1\" class=\"dataframe\">\n",
       "  <thead>\n",
       "    <tr style=\"text-align: right;\">\n",
       "      <th></th>\n",
       "      <th>id</th>\n",
       "      <th>nclass</th>\n",
       "      <th>math</th>\n",
       "      <th>english</th>\n",
       "      <th>science</th>\n",
       "    </tr>\n",
       "  </thead>\n",
       "  <tbody>\n",
       "    <tr>\n",
       "      <th>0</th>\n",
       "      <td>1</td>\n",
       "      <td>1</td>\n",
       "      <td>50</td>\n",
       "      <td>98</td>\n",
       "      <td>50</td>\n",
       "    </tr>\n",
       "    <tr>\n",
       "      <th>1</th>\n",
       "      <td>2</td>\n",
       "      <td>1</td>\n",
       "      <td>60</td>\n",
       "      <td>97</td>\n",
       "      <td>60</td>\n",
       "    </tr>\n",
       "    <tr>\n",
       "      <th>2</th>\n",
       "      <td>3</td>\n",
       "      <td>1</td>\n",
       "      <td>45</td>\n",
       "      <td>86</td>\n",
       "      <td>78</td>\n",
       "    </tr>\n",
       "    <tr>\n",
       "      <th>3</th>\n",
       "      <td>4</td>\n",
       "      <td>1</td>\n",
       "      <td>30</td>\n",
       "      <td>98</td>\n",
       "      <td>58</td>\n",
       "    </tr>\n",
       "    <tr>\n",
       "      <th>4</th>\n",
       "      <td>5</td>\n",
       "      <td>2</td>\n",
       "      <td>25</td>\n",
       "      <td>80</td>\n",
       "      <td>65</td>\n",
       "    </tr>\n",
       "  </tbody>\n",
       "</table>\n",
       "</div>"
      ],
      "text/plain": [
       "   id  nclass  math  english  science\n",
       "0   1       1    50       98       50\n",
       "1   2       1    60       97       60\n",
       "2   3       1    45       86       78\n",
       "3   4       1    30       98       58\n",
       "4   5       2    25       80       65"
      ]
     },
     "execution_count": 21,
     "metadata": {},
     "output_type": "execute_result"
    }
   ],
   "source": [
    "df = pd.read_csv('./Data/exam.csv')\n",
    "df.head()"
   ]
  },
  {
   "cell_type": "code",
   "execution_count": null,
   "id": "6ab06347",
   "metadata": {
    "error": true,
    "id": "6ab06347",
    "lines_to_next_cell": 0,
    "outputId": "df7a4c1f-f956-4a77-c16a-16e3c8423cc6",
    "tags": [
     "raises-exception"
    ]
   },
   "outputs": [
    {
     "ename": "AttributeError",
     "evalue": "'list' object has no attribute 'head'",
     "output_type": "error",
     "traceback": [
      "\u001b[1;31m---------------------------------------------------------------------------\u001b[0m",
      "\u001b[1;31mAttributeError\u001b[0m                            Traceback (most recent call last)",
      "Cell \u001b[1;32mIn[22], line 2\u001b[0m\n\u001b[0;32m      1\u001b[0m var \u001b[38;5;241m=\u001b[39m [\u001b[38;5;241m1\u001b[39m, \u001b[38;5;241m2\u001b[39m, \u001b[38;5;241m3\u001b[39m]\n\u001b[1;32m----> 2\u001b[0m \u001b[43mvar\u001b[49m\u001b[38;5;241;43m.\u001b[39;49m\u001b[43mhead\u001b[49m()  \u001b[38;5;66;03m# head()는 데이터 프레임 메서드, 리스트에서는 사용 불가\u001b[39;00m\n",
      "\u001b[1;31mAttributeError\u001b[0m: 'list' object has no attribute 'head'"
     ]
    }
   ],
   "source": [
    "var = [1, 2, 3]\n",
    "var.head()  # head()는 데이터 프레임 메서드, 리스트에서는 사용 불가"
   ]
  },
  {
   "cell_type": "code",
   "execution_count": null,
   "id": "ac72b6b5",
   "metadata": {
    "eval": false,
    "id": "ac72b6b5",
    "outputId": "b266fcb1-ad9f-4f14-c442-5595d8a57cba"
   },
   "outputs": [
    {
     "data": {
      "text/plain": [
       "pandas.core.frame.DataFrame"
      ]
     },
     "execution_count": 23,
     "metadata": {},
     "output_type": "execute_result"
    }
   ],
   "source": [
    "type(df)"
   ]
  },
  {
   "cell_type": "code",
   "execution_count": null,
   "id": "3a5ed91f",
   "metadata": {
    "eval": false,
    "id": "3a5ed91f",
    "outputId": "d399496e-7cfc-4028-ba6e-1cffd2c8638d"
   },
   "outputs": [
    {
     "data": {
      "text/plain": [
       "list"
      ]
     },
     "execution_count": 24,
     "metadata": {},
     "output_type": "execute_result"
    }
   ],
   "source": [
    "type(var)"
   ]
  },
  {
   "cell_type": "markdown",
   "id": "1fce7a47",
   "metadata": {
    "id": "1fce7a47"
   },
   "source": [
    "### ⌨️ 어트리뷰트 알아보기"
   ]
  },
  {
   "cell_type": "code",
   "execution_count": null,
   "id": "75273fa9",
   "metadata": {
    "id": "75273fa9",
    "lines_to_next_cell": 0,
    "outputId": "c84451bd-764d-4d7a-f3ca-945e248358eb"
   },
   "outputs": [
    {
     "data": {
      "text/html": [
       "<div>\n",
       "<style scoped>\n",
       "    .dataframe tbody tr th:only-of-type {\n",
       "        vertical-align: middle;\n",
       "    }\n",
       "\n",
       "    .dataframe tbody tr th {\n",
       "        vertical-align: top;\n",
       "    }\n",
       "\n",
       "    .dataframe thead th {\n",
       "        text-align: right;\n",
       "    }\n",
       "</style>\n",
       "<table border=\"1\" class=\"dataframe\">\n",
       "  <thead>\n",
       "    <tr style=\"text-align: right;\">\n",
       "      <th></th>\n",
       "      <th>id</th>\n",
       "      <th>nclass</th>\n",
       "      <th>math</th>\n",
       "      <th>english</th>\n",
       "      <th>science</th>\n",
       "    </tr>\n",
       "  </thead>\n",
       "  <tbody>\n",
       "    <tr>\n",
       "      <th>0</th>\n",
       "      <td>1</td>\n",
       "      <td>1</td>\n",
       "      <td>50</td>\n",
       "      <td>98</td>\n",
       "      <td>50</td>\n",
       "    </tr>\n",
       "    <tr>\n",
       "      <th>1</th>\n",
       "      <td>2</td>\n",
       "      <td>1</td>\n",
       "      <td>60</td>\n",
       "      <td>97</td>\n",
       "      <td>60</td>\n",
       "    </tr>\n",
       "    <tr>\n",
       "      <th>2</th>\n",
       "      <td>3</td>\n",
       "      <td>1</td>\n",
       "      <td>45</td>\n",
       "      <td>86</td>\n",
       "      <td>78</td>\n",
       "    </tr>\n",
       "    <tr>\n",
       "      <th>3</th>\n",
       "      <td>4</td>\n",
       "      <td>1</td>\n",
       "      <td>30</td>\n",
       "      <td>98</td>\n",
       "      <td>58</td>\n",
       "    </tr>\n",
       "    <tr>\n",
       "      <th>4</th>\n",
       "      <td>5</td>\n",
       "      <td>2</td>\n",
       "      <td>25</td>\n",
       "      <td>80</td>\n",
       "      <td>65</td>\n",
       "    </tr>\n",
       "  </tbody>\n",
       "</table>\n",
       "</div>"
      ],
      "text/plain": [
       "   id  nclass  math  english  science\n",
       "0   1       1    50       98       50\n",
       "1   2       1    60       97       60\n",
       "2   3       1    45       86       78\n",
       "3   4       1    30       98       58\n",
       "4   5       2    25       80       65"
      ]
     },
     "execution_count": 25,
     "metadata": {},
     "output_type": "execute_result"
    }
   ],
   "source": [
    "df.head()  # 메서드"
   ]
  },
  {
   "cell_type": "code",
   "execution_count": null,
   "id": "6be21ba2",
   "metadata": {
    "id": "6be21ba2",
    "lines_to_next_cell": 0,
    "outputId": "c6988e79-4ed0-4a00-cf0b-e70f94425171"
   },
   "outputs": [
    {
     "data": {
      "text/plain": [
       "(20, 5)"
      ]
     },
     "execution_count": 26,
     "metadata": {},
     "output_type": "execute_result"
    }
   ],
   "source": [
    "df.shape   # 어트리뷰트"
   ]
  },
  {
   "cell_type": "code",
   "execution_count": null,
   "id": "f0daaced",
   "metadata": {
    "error": true,
    "id": "f0daaced",
    "outputId": "bbb6b10c-2230-4c70-d538-0590e601912a",
    "tags": [
     "raises-exception"
    ]
   },
   "outputs": [
    {
     "ename": "AttributeError",
     "evalue": "'list' object has no attribute 'shape'",
     "output_type": "error",
     "traceback": [
      "\u001b[1;31m---------------------------------------------------------------------------\u001b[0m",
      "\u001b[1;31mAttributeError\u001b[0m                            Traceback (most recent call last)",
      "Cell \u001b[1;32mIn[27], line 1\u001b[0m\n\u001b[1;32m----> 1\u001b[0m \u001b[43mvar\u001b[49m\u001b[38;5;241;43m.\u001b[39;49m\u001b[43mshape\u001b[49m  \u001b[38;5;66;03m# shape은 데이터 프레임 어트리뷰트, 리스트에서는 사용 불가\u001b[39;00m\n",
      "\u001b[1;31mAttributeError\u001b[0m: 'list' object has no attribute 'shape'"
     ]
    }
   ],
   "source": [
    "var.shape  # shape은 데이터 프레임 어트리뷰트, 리스트에서는 사용 불가"
   ]
  },
  {
   "cell_type": "markdown",
   "id": "412b64b1",
   "metadata": {
    "id": "412b64b1"
   },
   "source": [
    "---\n",
    "## 05-2 변수명 바꾸기"
   ]
  },
  {
   "cell_type": "markdown",
   "id": "781d6af0",
   "metadata": {
    "id": "781d6af0"
   },
   "source": [
    "### ⌨️ 변수명 바꾸기\n",
    "\n",
    "\n",
    "\n"
   ]
  },
  {
   "cell_type": "markdown",
   "id": "bd15a1c9",
   "metadata": {
    "id": "bd15a1c9"
   },
   "source": [
    "#### 1. 데이터 프레임 만들기"
   ]
  },
  {
   "cell_type": "code",
   "execution_count": null,
   "id": "b1e812e6",
   "metadata": {
    "id": "b1e812e6",
    "outputId": "eda5fef5-eaf2-4d46-d10d-d219e0d7bba6"
   },
   "outputs": [
    {
     "data": {
      "text/html": [
       "<div>\n",
       "<style scoped>\n",
       "    .dataframe tbody tr th:only-of-type {\n",
       "        vertical-align: middle;\n",
       "    }\n",
       "\n",
       "    .dataframe tbody tr th {\n",
       "        vertical-align: top;\n",
       "    }\n",
       "\n",
       "    .dataframe thead th {\n",
       "        text-align: right;\n",
       "    }\n",
       "</style>\n",
       "<table border=\"1\" class=\"dataframe\">\n",
       "  <thead>\n",
       "    <tr style=\"text-align: right;\">\n",
       "      <th></th>\n",
       "      <th>var1</th>\n",
       "      <th>var2</th>\n",
       "    </tr>\n",
       "  </thead>\n",
       "  <tbody>\n",
       "    <tr>\n",
       "      <th>0</th>\n",
       "      <td>1</td>\n",
       "      <td>2</td>\n",
       "    </tr>\n",
       "    <tr>\n",
       "      <th>1</th>\n",
       "      <td>2</td>\n",
       "      <td>3</td>\n",
       "    </tr>\n",
       "    <tr>\n",
       "      <th>2</th>\n",
       "      <td>1</td>\n",
       "      <td>2</td>\n",
       "    </tr>\n",
       "  </tbody>\n",
       "</table>\n",
       "</div>"
      ],
      "text/plain": [
       "   var1  var2\n",
       "0     1     2\n",
       "1     2     3\n",
       "2     1     2"
      ]
     },
     "execution_count": 28,
     "metadata": {},
     "output_type": "execute_result"
    }
   ],
   "source": [
    "df_raw = pd.DataFrame({'var1' : [1, 2, 1],\n",
    "                       'var2' : [2, 3, 2]})\n",
    "df_raw\n"
   ]
  },
  {
   "cell_type": "markdown",
   "id": "9b9cca08",
   "metadata": {
    "id": "9b9cca08"
   },
   "source": [
    "#### 2. 데이터 프레임 복사본 만들기\n",
    "\n"
   ]
  },
  {
   "cell_type": "code",
   "execution_count": null,
   "id": "d8978669",
   "metadata": {
    "id": "d8978669",
    "lines_to_next_cell": 0,
    "outputId": "978367be-ae5c-47c4-977c-4d751118573c"
   },
   "outputs": [
    {
     "data": {
      "text/html": [
       "<div>\n",
       "<style scoped>\n",
       "    .dataframe tbody tr th:only-of-type {\n",
       "        vertical-align: middle;\n",
       "    }\n",
       "\n",
       "    .dataframe tbody tr th {\n",
       "        vertical-align: top;\n",
       "    }\n",
       "\n",
       "    .dataframe thead th {\n",
       "        text-align: right;\n",
       "    }\n",
       "</style>\n",
       "<table border=\"1\" class=\"dataframe\">\n",
       "  <thead>\n",
       "    <tr style=\"text-align: right;\">\n",
       "      <th></th>\n",
       "      <th>var1</th>\n",
       "      <th>var2</th>\n",
       "    </tr>\n",
       "  </thead>\n",
       "  <tbody>\n",
       "    <tr>\n",
       "      <th>0</th>\n",
       "      <td>1</td>\n",
       "      <td>2</td>\n",
       "    </tr>\n",
       "    <tr>\n",
       "      <th>1</th>\n",
       "      <td>2</td>\n",
       "      <td>3</td>\n",
       "    </tr>\n",
       "    <tr>\n",
       "      <th>2</th>\n",
       "      <td>1</td>\n",
       "      <td>2</td>\n",
       "    </tr>\n",
       "  </tbody>\n",
       "</table>\n",
       "</div>"
      ],
      "text/plain": [
       "   var1  var2\n",
       "0     1     2\n",
       "1     2     3\n",
       "2     1     2"
      ]
     },
     "execution_count": 29,
     "metadata": {},
     "output_type": "execute_result"
    }
   ],
   "source": [
    "df_new = df_raw.copy()  # 복사본 만들기\n",
    "df_new                  # 출력"
   ]
  },
  {
   "cell_type": "markdown",
   "id": "ebe976a9",
   "metadata": {
    "id": "ebe976a9"
   },
   "source": [
    "#### 3. 변수명 바꾸기"
   ]
  },
  {
   "cell_type": "code",
   "execution_count": null,
   "id": "c471f082",
   "metadata": {
    "id": "c471f082",
    "outputId": "cce88985-961b-4048-cc7f-71d26ee9fd75"
   },
   "outputs": [
    {
     "data": {
      "text/html": [
       "<div>\n",
       "<style scoped>\n",
       "    .dataframe tbody tr th:only-of-type {\n",
       "        vertical-align: middle;\n",
       "    }\n",
       "\n",
       "    .dataframe tbody tr th {\n",
       "        vertical-align: top;\n",
       "    }\n",
       "\n",
       "    .dataframe thead th {\n",
       "        text-align: right;\n",
       "    }\n",
       "</style>\n",
       "<table border=\"1\" class=\"dataframe\">\n",
       "  <thead>\n",
       "    <tr style=\"text-align: right;\">\n",
       "      <th></th>\n",
       "      <th>var1</th>\n",
       "      <th>v2</th>\n",
       "    </tr>\n",
       "  </thead>\n",
       "  <tbody>\n",
       "    <tr>\n",
       "      <th>0</th>\n",
       "      <td>1</td>\n",
       "      <td>2</td>\n",
       "    </tr>\n",
       "    <tr>\n",
       "      <th>1</th>\n",
       "      <td>2</td>\n",
       "      <td>3</td>\n",
       "    </tr>\n",
       "    <tr>\n",
       "      <th>2</th>\n",
       "      <td>1</td>\n",
       "      <td>2</td>\n",
       "    </tr>\n",
       "  </tbody>\n",
       "</table>\n",
       "</div>"
      ],
      "text/plain": [
       "   var1  v2\n",
       "0     1   2\n",
       "1     2   3\n",
       "2     1   2"
      ]
     },
     "execution_count": 30,
     "metadata": {},
     "output_type": "execute_result"
    }
   ],
   "source": [
    "df_new = df_new.rename(columns = {'var2' : 'v2'})  # var2를 v2로 수정\n",
    "df_new"
   ]
  },
  {
   "cell_type": "code",
   "execution_count": null,
   "id": "73018f60",
   "metadata": {
    "id": "73018f60",
    "lines_to_next_cell": 0,
    "outputId": "d28982f4-7ed5-468b-8aa5-78a6130eacf0"
   },
   "outputs": [
    {
     "data": {
      "text/html": [
       "<div>\n",
       "<style scoped>\n",
       "    .dataframe tbody tr th:only-of-type {\n",
       "        vertical-align: middle;\n",
       "    }\n",
       "\n",
       "    .dataframe tbody tr th {\n",
       "        vertical-align: top;\n",
       "    }\n",
       "\n",
       "    .dataframe thead th {\n",
       "        text-align: right;\n",
       "    }\n",
       "</style>\n",
       "<table border=\"1\" class=\"dataframe\">\n",
       "  <thead>\n",
       "    <tr style=\"text-align: right;\">\n",
       "      <th></th>\n",
       "      <th>var1</th>\n",
       "      <th>var2</th>\n",
       "    </tr>\n",
       "  </thead>\n",
       "  <tbody>\n",
       "    <tr>\n",
       "      <th>0</th>\n",
       "      <td>1</td>\n",
       "      <td>2</td>\n",
       "    </tr>\n",
       "    <tr>\n",
       "      <th>1</th>\n",
       "      <td>2</td>\n",
       "      <td>3</td>\n",
       "    </tr>\n",
       "    <tr>\n",
       "      <th>2</th>\n",
       "      <td>1</td>\n",
       "      <td>2</td>\n",
       "    </tr>\n",
       "  </tbody>\n",
       "</table>\n",
       "</div>"
      ],
      "text/plain": [
       "   var1  var2\n",
       "0     1     2\n",
       "1     2     3\n",
       "2     1     2"
      ]
     },
     "execution_count": 31,
     "metadata": {},
     "output_type": "execute_result"
    }
   ],
   "source": [
    "df_raw"
   ]
  },
  {
   "cell_type": "code",
   "execution_count": null,
   "id": "c5ccffea",
   "metadata": {
    "id": "c5ccffea",
    "lines_to_next_cell": 0,
    "outputId": "bc166000-df3b-4508-8cae-da21b069a606"
   },
   "outputs": [
    {
     "data": {
      "text/html": [
       "<div>\n",
       "<style scoped>\n",
       "    .dataframe tbody tr th:only-of-type {\n",
       "        vertical-align: middle;\n",
       "    }\n",
       "\n",
       "    .dataframe tbody tr th {\n",
       "        vertical-align: top;\n",
       "    }\n",
       "\n",
       "    .dataframe thead th {\n",
       "        text-align: right;\n",
       "    }\n",
       "</style>\n",
       "<table border=\"1\" class=\"dataframe\">\n",
       "  <thead>\n",
       "    <tr style=\"text-align: right;\">\n",
       "      <th></th>\n",
       "      <th>var1</th>\n",
       "      <th>v2</th>\n",
       "    </tr>\n",
       "  </thead>\n",
       "  <tbody>\n",
       "    <tr>\n",
       "      <th>0</th>\n",
       "      <td>1</td>\n",
       "      <td>2</td>\n",
       "    </tr>\n",
       "    <tr>\n",
       "      <th>1</th>\n",
       "      <td>2</td>\n",
       "      <td>3</td>\n",
       "    </tr>\n",
       "    <tr>\n",
       "      <th>2</th>\n",
       "      <td>1</td>\n",
       "      <td>2</td>\n",
       "    </tr>\n",
       "  </tbody>\n",
       "</table>\n",
       "</div>"
      ],
      "text/plain": [
       "   var1  v2\n",
       "0     1   2\n",
       "1     2   3\n",
       "2     1   2"
      ]
     },
     "execution_count": 32,
     "metadata": {},
     "output_type": "execute_result"
    }
   ],
   "source": [
    "df_new"
   ]
  },
  {
   "cell_type": "markdown",
   "id": "1iZPNDdfTQ57",
   "metadata": {
    "id": "1iZPNDdfTQ57"
   },
   "source": [
    "![20250512_160220.png](data:image/png;base64,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)"
   ]
  },
  {
   "cell_type": "markdown",
   "id": "e2ef630a",
   "metadata": {
    "id": "e2ef630a"
   },
   "source": [
    "---\n",
    "## 05-3 파생변수 만들기"
   ]
  },
  {
   "cell_type": "markdown",
   "id": "dae9d6dc",
   "metadata": {
    "id": "dae9d6dc"
   },
   "source": [
    "### ⌨️ 변수 조합해 파생변수 만들기"
   ]
  },
  {
   "cell_type": "code",
   "execution_count": null,
   "id": "f95b0650",
   "metadata": {
    "id": "f95b0650",
    "lines_to_next_cell": 0,
    "outputId": "01493e64-dff9-4f12-bcf0-18735588684f"
   },
   "outputs": [
    {
     "data": {
      "text/html": [
       "<div>\n",
       "<style scoped>\n",
       "    .dataframe tbody tr th:only-of-type {\n",
       "        vertical-align: middle;\n",
       "    }\n",
       "\n",
       "    .dataframe tbody tr th {\n",
       "        vertical-align: top;\n",
       "    }\n",
       "\n",
       "    .dataframe thead th {\n",
       "        text-align: right;\n",
       "    }\n",
       "</style>\n",
       "<table border=\"1\" class=\"dataframe\">\n",
       "  <thead>\n",
       "    <tr style=\"text-align: right;\">\n",
       "      <th></th>\n",
       "      <th>var1</th>\n",
       "      <th>var2</th>\n",
       "    </tr>\n",
       "  </thead>\n",
       "  <tbody>\n",
       "    <tr>\n",
       "      <th>0</th>\n",
       "      <td>4</td>\n",
       "      <td>2</td>\n",
       "    </tr>\n",
       "    <tr>\n",
       "      <th>1</th>\n",
       "      <td>3</td>\n",
       "      <td>6</td>\n",
       "    </tr>\n",
       "    <tr>\n",
       "      <th>2</th>\n",
       "      <td>8</td>\n",
       "      <td>1</td>\n",
       "    </tr>\n",
       "  </tbody>\n",
       "</table>\n",
       "</div>"
      ],
      "text/plain": [
       "   var1  var2\n",
       "0     4     2\n",
       "1     3     6\n",
       "2     8     1"
      ]
     },
     "execution_count": 33,
     "metadata": {},
     "output_type": "execute_result"
    }
   ],
   "source": [
    "df = pd.DataFrame({'var1' : [4, 3, 8],\n",
    "                   'var2' : [2, 6, 1]})\n",
    "df"
   ]
  },
  {
   "cell_type": "code",
   "execution_count": null,
   "id": "54f79965",
   "metadata": {
    "id": "54f79965",
    "lines_to_next_cell": 0,
    "outputId": "272c891b-98bf-4682-bdd8-13eb04afa004"
   },
   "outputs": [
    {
     "data": {
      "text/html": [
       "<div>\n",
       "<style scoped>\n",
       "    .dataframe tbody tr th:only-of-type {\n",
       "        vertical-align: middle;\n",
       "    }\n",
       "\n",
       "    .dataframe tbody tr th {\n",
       "        vertical-align: top;\n",
       "    }\n",
       "\n",
       "    .dataframe thead th {\n",
       "        text-align: right;\n",
       "    }\n",
       "</style>\n",
       "<table border=\"1\" class=\"dataframe\">\n",
       "  <thead>\n",
       "    <tr style=\"text-align: right;\">\n",
       "      <th></th>\n",
       "      <th>var1</th>\n",
       "      <th>var2</th>\n",
       "      <th>var_sum</th>\n",
       "    </tr>\n",
       "  </thead>\n",
       "  <tbody>\n",
       "    <tr>\n",
       "      <th>0</th>\n",
       "      <td>4</td>\n",
       "      <td>2</td>\n",
       "      <td>6</td>\n",
       "    </tr>\n",
       "    <tr>\n",
       "      <th>1</th>\n",
       "      <td>3</td>\n",
       "      <td>6</td>\n",
       "      <td>9</td>\n",
       "    </tr>\n",
       "    <tr>\n",
       "      <th>2</th>\n",
       "      <td>8</td>\n",
       "      <td>1</td>\n",
       "      <td>9</td>\n",
       "    </tr>\n",
       "  </tbody>\n",
       "</table>\n",
       "</div>"
      ],
      "text/plain": [
       "   var1  var2  var_sum\n",
       "0     4     2        6\n",
       "1     3     6        9\n",
       "2     8     1        9"
      ]
     },
     "execution_count": 34,
     "metadata": {},
     "output_type": "execute_result"
    }
   ],
   "source": [
    "df['var_sum'] = df['var1'] + df['var2']  # var_sum 파생변수 만들기\n",
    "df"
   ]
  },
  {
   "cell_type": "code",
   "execution_count": null,
   "id": "d5aec89d",
   "metadata": {
    "id": "d5aec89d",
    "outputId": "a0d5fbad-0478-4036-c6bd-303160ae59a8"
   },
   "outputs": [
    {
     "data": {
      "text/html": [
       "<div>\n",
       "<style scoped>\n",
       "    .dataframe tbody tr th:only-of-type {\n",
       "        vertical-align: middle;\n",
       "    }\n",
       "\n",
       "    .dataframe tbody tr th {\n",
       "        vertical-align: top;\n",
       "    }\n",
       "\n",
       "    .dataframe thead th {\n",
       "        text-align: right;\n",
       "    }\n",
       "</style>\n",
       "<table border=\"1\" class=\"dataframe\">\n",
       "  <thead>\n",
       "    <tr style=\"text-align: right;\">\n",
       "      <th></th>\n",
       "      <th>var1</th>\n",
       "      <th>var2</th>\n",
       "      <th>var_sum</th>\n",
       "      <th>ver_mean</th>\n",
       "    </tr>\n",
       "  </thead>\n",
       "  <tbody>\n",
       "    <tr>\n",
       "      <th>0</th>\n",
       "      <td>4</td>\n",
       "      <td>2</td>\n",
       "      <td>6</td>\n",
       "      <td>3.0</td>\n",
       "    </tr>\n",
       "    <tr>\n",
       "      <th>1</th>\n",
       "      <td>3</td>\n",
       "      <td>6</td>\n",
       "      <td>9</td>\n",
       "      <td>4.5</td>\n",
       "    </tr>\n",
       "    <tr>\n",
       "      <th>2</th>\n",
       "      <td>8</td>\n",
       "      <td>1</td>\n",
       "      <td>9</td>\n",
       "      <td>4.5</td>\n",
       "    </tr>\n",
       "  </tbody>\n",
       "</table>\n",
       "</div>"
      ],
      "text/plain": [
       "   var1  var2  var_sum  ver_mean\n",
       "0     4     2        6       3.0\n",
       "1     3     6        9       4.5\n",
       "2     8     1        9       4.5"
      ]
     },
     "execution_count": 35,
     "metadata": {},
     "output_type": "execute_result"
    }
   ],
   "source": [
    "# df['var_mean'] = (df['var1'] + df['var2']) / 2  # var_mean 파생변수 만들기\n",
    "df['ver_mean'] = df['var_sum'] / 2\n",
    "df"
   ]
  },
  {
   "cell_type": "markdown",
   "id": "7ee6bbdc",
   "metadata": {
    "id": "7ee6bbdc"
   },
   "source": [
    "### ⌨️ mpg 통합 연비 변수 만들기\n"
   ]
  },
  {
   "cell_type": "code",
   "execution_count": null,
   "id": "2e25e5f5",
   "metadata": {
    "id": "2e25e5f5",
    "lines_to_next_cell": 0,
    "outputId": "43827b1d-f705-425a-e4fc-6162d0d48220"
   },
   "outputs": [
    {
     "data": {
      "text/html": [
       "<div>\n",
       "<style scoped>\n",
       "    .dataframe tbody tr th:only-of-type {\n",
       "        vertical-align: middle;\n",
       "    }\n",
       "\n",
       "    .dataframe tbody tr th {\n",
       "        vertical-align: top;\n",
       "    }\n",
       "\n",
       "    .dataframe thead th {\n",
       "        text-align: right;\n",
       "    }\n",
       "</style>\n",
       "<table border=\"1\" class=\"dataframe\">\n",
       "  <thead>\n",
       "    <tr style=\"text-align: right;\">\n",
       "      <th></th>\n",
       "      <th>manufacturer</th>\n",
       "      <th>model</th>\n",
       "      <th>displ</th>\n",
       "      <th>year</th>\n",
       "      <th>cyl</th>\n",
       "      <th>trans</th>\n",
       "      <th>drv</th>\n",
       "      <th>cty</th>\n",
       "      <th>hwy</th>\n",
       "      <th>fl</th>\n",
       "      <th>category</th>\n",
       "      <th>total</th>\n",
       "    </tr>\n",
       "  </thead>\n",
       "  <tbody>\n",
       "    <tr>\n",
       "      <th>0</th>\n",
       "      <td>audi</td>\n",
       "      <td>a4</td>\n",
       "      <td>1.8</td>\n",
       "      <td>1999</td>\n",
       "      <td>4</td>\n",
       "      <td>auto(l5)</td>\n",
       "      <td>f</td>\n",
       "      <td>18</td>\n",
       "      <td>29</td>\n",
       "      <td>p</td>\n",
       "      <td>compact</td>\n",
       "      <td>23.5</td>\n",
       "    </tr>\n",
       "    <tr>\n",
       "      <th>1</th>\n",
       "      <td>audi</td>\n",
       "      <td>a4</td>\n",
       "      <td>1.8</td>\n",
       "      <td>1999</td>\n",
       "      <td>4</td>\n",
       "      <td>manual(m5)</td>\n",
       "      <td>f</td>\n",
       "      <td>21</td>\n",
       "      <td>29</td>\n",
       "      <td>p</td>\n",
       "      <td>compact</td>\n",
       "      <td>25.0</td>\n",
       "    </tr>\n",
       "    <tr>\n",
       "      <th>2</th>\n",
       "      <td>audi</td>\n",
       "      <td>a4</td>\n",
       "      <td>2.0</td>\n",
       "      <td>2008</td>\n",
       "      <td>4</td>\n",
       "      <td>manual(m6)</td>\n",
       "      <td>f</td>\n",
       "      <td>20</td>\n",
       "      <td>31</td>\n",
       "      <td>p</td>\n",
       "      <td>compact</td>\n",
       "      <td>25.5</td>\n",
       "    </tr>\n",
       "    <tr>\n",
       "      <th>3</th>\n",
       "      <td>audi</td>\n",
       "      <td>a4</td>\n",
       "      <td>2.0</td>\n",
       "      <td>2008</td>\n",
       "      <td>4</td>\n",
       "      <td>auto(av)</td>\n",
       "      <td>f</td>\n",
       "      <td>21</td>\n",
       "      <td>30</td>\n",
       "      <td>p</td>\n",
       "      <td>compact</td>\n",
       "      <td>25.5</td>\n",
       "    </tr>\n",
       "    <tr>\n",
       "      <th>4</th>\n",
       "      <td>audi</td>\n",
       "      <td>a4</td>\n",
       "      <td>2.8</td>\n",
       "      <td>1999</td>\n",
       "      <td>6</td>\n",
       "      <td>auto(l5)</td>\n",
       "      <td>f</td>\n",
       "      <td>16</td>\n",
       "      <td>26</td>\n",
       "      <td>p</td>\n",
       "      <td>compact</td>\n",
       "      <td>21.0</td>\n",
       "    </tr>\n",
       "  </tbody>\n",
       "</table>\n",
       "</div>"
      ],
      "text/plain": [
       "  manufacturer model  displ  year  cyl       trans drv  cty  hwy fl category  \\\n",
       "0         audi    a4    1.8  1999    4    auto(l5)   f   18   29  p  compact   \n",
       "1         audi    a4    1.8  1999    4  manual(m5)   f   21   29  p  compact   \n",
       "2         audi    a4    2.0  2008    4  manual(m6)   f   20   31  p  compact   \n",
       "3         audi    a4    2.0  2008    4    auto(av)   f   21   30  p  compact   \n",
       "4         audi    a4    2.8  1999    6    auto(l5)   f   16   26  p  compact   \n",
       "\n",
       "   total  \n",
       "0   23.5  \n",
       "1   25.0  \n",
       "2   25.5  \n",
       "3   25.5  \n",
       "4   21.0  "
      ]
     },
     "execution_count": 36,
     "metadata": {},
     "output_type": "execute_result"
    }
   ],
   "source": [
    "mpg['total'] = (mpg['cty'] + mpg['hwy']) / 2  # 통합 연비 변수 만들기\n",
    "mpg.head()"
   ]
  },
  {
   "cell_type": "code",
   "execution_count": null,
   "id": "bb6c6467",
   "metadata": {
    "id": "bb6c6467",
    "lines_to_next_cell": 0,
    "outputId": "85f51407-b959-4673-ca90-ad7e857d5a09"
   },
   "outputs": [
    {
     "data": {
      "text/plain": [
       "20.14957264957265"
      ]
     },
     "execution_count": 37,
     "metadata": {},
     "output_type": "execute_result"
    }
   ],
   "source": [
    "sum(mpg['total']) / len(mpg)  # total 합계를 행 수로 나누기"
   ]
  },
  {
   "cell_type": "code",
   "execution_count": null,
   "id": "dcd6ab97",
   "metadata": {
    "id": "dcd6ab97",
    "outputId": "4086ffa2-122e-4a67-fa4e-265467274ce4"
   },
   "outputs": [
    {
     "data": {
      "text/plain": [
       "np.float64(20.14957264957265)"
      ]
     },
     "execution_count": 38,
     "metadata": {},
     "output_type": "execute_result"
    }
   ],
   "source": [
    "mpg['total'].mean()  # 통합 연비 변수 평균"
   ]
  },
  {
   "cell_type": "markdown",
   "id": "766328a3",
   "metadata": {
    "id": "766328a3"
   },
   "source": [
    "### ⌨️ 조건문을 활용해 파생변수 만들기"
   ]
  },
  {
   "cell_type": "markdown",
   "id": "d2112ec8",
   "metadata": {
    "id": "d2112ec8"
   },
   "source": [
    "#### 1. 기준값 정하기"
   ]
  },
  {
   "cell_type": "code",
   "execution_count": null,
   "id": "cffbeb5d",
   "metadata": {
    "id": "cffbeb5d",
    "lines_to_next_cell": 0,
    "outputId": "a65ed993-5131-4b3e-f5a4-61e25a9dedb0"
   },
   "outputs": [
    {
     "data": {
      "text/plain": [
       "count    234.000000\n",
       "mean      20.149573\n",
       "std        5.050290\n",
       "min       10.500000\n",
       "25%       15.500000\n",
       "50%       20.500000\n",
       "75%       23.500000\n",
       "max       39.500000\n",
       "Name: total, dtype: float64"
      ]
     },
     "execution_count": 39,
     "metadata": {},
     "output_type": "execute_result"
    }
   ],
   "source": [
    "mpg['total'].describe()  # 요약 통계량 출력"
   ]
  },
  {
   "cell_type": "code",
   "execution_count": null,
   "id": "068b1c96",
   "metadata": {
    "id": "068b1c96",
    "name": "eval F",
    "outputId": "a6ec529d-8e5d-4ff2-b0df-169c8f728e71"
   },
   "outputs": [
    {
     "data": {
      "text/plain": [
       "<Axes: ylabel='Frequency'>"
      ]
     },
     "execution_count": 40,
     "metadata": {},
     "output_type": "execute_result"
    },
    {
     "data": {
      "image/png": "[encoded data removed]",
      "text/plain": [
       "<Figure size 640x480 with 1 Axes>"
      ]
     },
     "metadata": {
      "image/png": {
       "height": 413,
       "width": 563
      }
     },
     "output_type": "display_data"
    }
   ],
   "source": [
    "# 그래프 만들기\n",
    "mpg['total'].plot.hist()"
   ]
  },
  {
   "cell_type": "markdown",
   "id": "c0af4967",
   "metadata": {
    "id": "c0af4967"
   },
   "source": [
    "#### 2. 합격 판정 변수 만들기"
   ]
  },
  {
   "cell_type": "code",
   "execution_count": null,
   "id": "c804243d",
   "metadata": {
    "id": "c804243d",
    "lines_to_next_cell": 0
   },
   "outputs": [],
   "source": [
    "import numpy as np"
   ]
  },
  {
   "cell_type": "code",
   "execution_count": null,
   "id": "2f3e2c7c",
   "metadata": {
    "id": "2f3e2c7c",
    "lines_to_next_cell": 0,
    "outputId": "9d3c0520-5b29-40eb-c42e-1650e3eca415"
   },
   "outputs": [
    {
     "data": {
      "text/html": [
       "<div>\n",
       "<style scoped>\n",
       "    .dataframe tbody tr th:only-of-type {\n",
       "        vertical-align: middle;\n",
       "    }\n",
       "\n",
       "    .dataframe tbody tr th {\n",
       "        vertical-align: top;\n",
       "    }\n",
       "\n",
       "    .dataframe thead th {\n",
       "        text-align: right;\n",
       "    }\n",
       "</style>\n",
       "<table border=\"1\" class=\"dataframe\">\n",
       "  <thead>\n",
       "    <tr style=\"text-align: right;\">\n",
       "      <th></th>\n",
       "      <th>manufacturer</th>\n",
       "      <th>model</th>\n",
       "      <th>displ</th>\n",
       "      <th>year</th>\n",
       "      <th>cyl</th>\n",
       "      <th>trans</th>\n",
       "      <th>drv</th>\n",
       "      <th>cty</th>\n",
       "      <th>hwy</th>\n",
       "      <th>fl</th>\n",
       "      <th>category</th>\n",
       "      <th>total</th>\n",
       "      <th>test</th>\n",
       "    </tr>\n",
       "  </thead>\n",
       "  <tbody>\n",
       "    <tr>\n",
       "      <th>0</th>\n",
       "      <td>audi</td>\n",
       "      <td>a4</td>\n",
       "      <td>1.8</td>\n",
       "      <td>1999</td>\n",
       "      <td>4</td>\n",
       "      <td>auto(l5)</td>\n",
       "      <td>f</td>\n",
       "      <td>18</td>\n",
       "      <td>29</td>\n",
       "      <td>p</td>\n",
       "      <td>compact</td>\n",
       "      <td>23.5</td>\n",
       "      <td>pass</td>\n",
       "    </tr>\n",
       "    <tr>\n",
       "      <th>1</th>\n",
       "      <td>audi</td>\n",
       "      <td>a4</td>\n",
       "      <td>1.8</td>\n",
       "      <td>1999</td>\n",
       "      <td>4</td>\n",
       "      <td>manual(m5)</td>\n",
       "      <td>f</td>\n",
       "      <td>21</td>\n",
       "      <td>29</td>\n",
       "      <td>p</td>\n",
       "      <td>compact</td>\n",
       "      <td>25.0</td>\n",
       "      <td>pass</td>\n",
       "    </tr>\n",
       "    <tr>\n",
       "      <th>2</th>\n",
       "      <td>audi</td>\n",
       "      <td>a4</td>\n",
       "      <td>2.0</td>\n",
       "      <td>2008</td>\n",
       "      <td>4</td>\n",
       "      <td>manual(m6)</td>\n",
       "      <td>f</td>\n",
       "      <td>20</td>\n",
       "      <td>31</td>\n",
       "      <td>p</td>\n",
       "      <td>compact</td>\n",
       "      <td>25.5</td>\n",
       "      <td>pass</td>\n",
       "    </tr>\n",
       "    <tr>\n",
       "      <th>3</th>\n",
       "      <td>audi</td>\n",
       "      <td>a4</td>\n",
       "      <td>2.0</td>\n",
       "      <td>2008</td>\n",
       "      <td>4</td>\n",
       "      <td>auto(av)</td>\n",
       "      <td>f</td>\n",
       "      <td>21</td>\n",
       "      <td>30</td>\n",
       "      <td>p</td>\n",
       "      <td>compact</td>\n",
       "      <td>25.5</td>\n",
       "      <td>pass</td>\n",
       "    </tr>\n",
       "    <tr>\n",
       "      <th>4</th>\n",
       "      <td>audi</td>\n",
       "      <td>a4</td>\n",
       "      <td>2.8</td>\n",
       "      <td>1999</td>\n",
       "      <td>6</td>\n",
       "      <td>auto(l5)</td>\n",
       "      <td>f</td>\n",
       "      <td>16</td>\n",
       "      <td>26</td>\n",
       "      <td>p</td>\n",
       "      <td>compact</td>\n",
       "      <td>21.0</td>\n",
       "      <td>pass</td>\n",
       "    </tr>\n",
       "  </tbody>\n",
       "</table>\n",
       "</div>"
      ],
      "text/plain": [
       "  manufacturer model  displ  year  cyl       trans drv  cty  hwy fl category  \\\n",
       "0         audi    a4    1.8  1999    4    auto(l5)   f   18   29  p  compact   \n",
       "1         audi    a4    1.8  1999    4  manual(m5)   f   21   29  p  compact   \n",
       "2         audi    a4    2.0  2008    4  manual(m6)   f   20   31  p  compact   \n",
       "3         audi    a4    2.0  2008    4    auto(av)   f   21   30  p  compact   \n",
       "4         audi    a4    2.8  1999    6    auto(l5)   f   16   26  p  compact   \n",
       "\n",
       "   total  test  \n",
       "0   23.5  pass  \n",
       "1   25.0  pass  \n",
       "2   25.5  pass  \n",
       "3   25.5  pass  \n",
       "4   21.0  pass  "
      ]
     },
     "execution_count": 42,
     "metadata": {},
     "output_type": "execute_result"
    }
   ],
   "source": [
    "# 20 이상이면 pass, 그렇지 않으면 fail 부여\n",
    "mpg['test'] = np.where(mpg['total'] >= 20, 'pass', 'fail')\n",
    "mpg.head()"
   ]
  },
  {
   "cell_type": "markdown",
   "id": "e69930ce",
   "metadata": {
    "id": "e69930ce"
   },
   "source": [
    "#### 3. 빈도표로 합격 판정 자동차 수 살펴보기"
   ]
  },
  {
   "cell_type": "code",
   "execution_count": null,
   "id": "032fe9d4",
   "metadata": {
    "id": "032fe9d4",
    "lines_to_next_cell": 0,
    "outputId": "b82ba3f1-82b8-4bf8-988e-0b84caf792c2"
   },
   "outputs": [
    {
     "data": {
      "text/plain": [
       "test\n",
       "pass    128\n",
       "fail    106\n",
       "Name: count, dtype: int64"
      ]
     },
     "execution_count": 43,
     "metadata": {},
     "output_type": "execute_result"
    }
   ],
   "source": [
    "mpg['test'].value_counts()  # 연비 합격 빈도표 만들기"
   ]
  },
  {
   "cell_type": "markdown",
   "id": "cb86739e",
   "metadata": {
    "id": "cb86739e"
   },
   "source": [
    "#### 4. 막대 그래프로 빈도 표현하기"
   ]
  },
  {
   "cell_type": "code",
   "execution_count": null,
   "id": "c793dc91",
   "metadata": {
    "id": "c793dc91",
    "lines_to_next_cell": 0
   },
   "outputs": [],
   "source": [
    "count_test = mpg['test'].value_counts()  # 연비 합격 빈도표를 변수에 할당"
   ]
  },
  {
   "cell_type": "code",
   "execution_count": null,
   "id": "fa827880",
   "metadata": {
    "eval": false,
    "id": "fa827880",
    "outputId": "3706b8cf-f20f-4bd3-d5aa-4e07ad0add2a"
   },
   "outputs": [
    {
     "data": {
      "text/plain": [
       "<Axes: xlabel='test'>"
      ]
     },
     "execution_count": 45,
     "metadata": {},
     "output_type": "execute_result"
    },
    {
     "data": {
      "image/png": "[encoded data removed]",
      "text/plain": [
       "<Figure size 640x480 with 1 Axes>"
      ]
     },
     "metadata": {
      "image/png": {
       "height": 450,
       "width": 552
      }
     },
     "output_type": "display_data"
    }
   ],
   "source": [
    "count_test.plot.bar()  # 연비 합격 빈도 막대 그래프 만들기"
   ]
  },
  {
   "cell_type": "markdown",
   "id": "59e32c3c",
   "metadata": {
    "id": "59e32c3c"
   },
   "source": [
    "#### 축 이름 회전하기"
   ]
  },
  {
   "cell_type": "code",
   "execution_count": null,
   "id": "616bb7af",
   "metadata": {
    "eval": false,
    "id": "616bb7af",
    "outputId": "b278b157-5ed9-4a87-8b7f-90693062154a"
   },
   "outputs": [
    {
     "data": {
      "text/plain": [
       "<Axes: xlabel='test'>"
      ]
     },
     "execution_count": 46,
     "metadata": {},
     "output_type": "execute_result"
    },
    {
     "data": {
      "image/png": "[encoded data removed]",
      "text/plain": [
       "<Figure size 640x480 with 1 Axes>"
      ]
     },
     "metadata": {
      "image/png": {
       "height": 432,
       "width": 552
      }
     },
     "output_type": "display_data"
    }
   ],
   "source": [
    "count_test.plot.bar(rot = 0)  # 축 이름 수평으로 만들기"
   ]
  },
  {
   "cell_type": "markdown",
   "id": "12d499eb",
   "metadata": {
    "id": "12d499eb"
   },
   "source": [
    "### ⌨️ 중첩 조건문 활용하기\n"
   ]
  },
  {
   "cell_type": "markdown",
   "id": "5da18289",
   "metadata": {
    "id": "5da18289"
   },
   "source": [
    "#### 1. 연비 등급 변수 만들기\n",
    "\n"
   ]
  },
  {
   "cell_type": "code",
   "execution_count": null,
   "id": "f38d9925",
   "metadata": {
    "id": "f38d9925",
    "lines_to_next_cell": 0,
    "outputId": "d1bb2be6-1c53-4bfb-abda-04b68bd15834"
   },
   "outputs": [
    {
     "data": {
      "text/html": [
       "<div>\n",
       "<style scoped>\n",
       "    .dataframe tbody tr th:only-of-type {\n",
       "        vertical-align: middle;\n",
       "    }\n",
       "\n",
       "    .dataframe tbody tr th {\n",
       "        vertical-align: top;\n",
       "    }\n",
       "\n",
       "    .dataframe thead th {\n",
       "        text-align: right;\n",
       "    }\n",
       "</style>\n",
       "<table border=\"1\" class=\"dataframe\">\n",
       "  <thead>\n",
       "    <tr style=\"text-align: right;\">\n",
       "      <th></th>\n",
       "      <th>manufacturer</th>\n",
       "      <th>model</th>\n",
       "      <th>displ</th>\n",
       "      <th>year</th>\n",
       "      <th>cyl</th>\n",
       "      <th>trans</th>\n",
       "      <th>drv</th>\n",
       "      <th>cty</th>\n",
       "      <th>hwy</th>\n",
       "      <th>fl</th>\n",
       "      <th>category</th>\n",
       "      <th>total</th>\n",
       "      <th>test</th>\n",
       "      <th>grade</th>\n",
       "    </tr>\n",
       "  </thead>\n",
       "  <tbody>\n",
       "    <tr>\n",
       "      <th>0</th>\n",
       "      <td>audi</td>\n",
       "      <td>a4</td>\n",
       "      <td>1.8</td>\n",
       "      <td>1999</td>\n",
       "      <td>4</td>\n",
       "      <td>auto(l5)</td>\n",
       "      <td>f</td>\n",
       "      <td>18</td>\n",
       "      <td>29</td>\n",
       "      <td>p</td>\n",
       "      <td>compact</td>\n",
       "      <td>23.5</td>\n",
       "      <td>pass</td>\n",
       "      <td>B</td>\n",
       "    </tr>\n",
       "    <tr>\n",
       "      <th>1</th>\n",
       "      <td>audi</td>\n",
       "      <td>a4</td>\n",
       "      <td>1.8</td>\n",
       "      <td>1999</td>\n",
       "      <td>4</td>\n",
       "      <td>manual(m5)</td>\n",
       "      <td>f</td>\n",
       "      <td>21</td>\n",
       "      <td>29</td>\n",
       "      <td>p</td>\n",
       "      <td>compact</td>\n",
       "      <td>25.0</td>\n",
       "      <td>pass</td>\n",
       "      <td>B</td>\n",
       "    </tr>\n",
       "    <tr>\n",
       "      <th>2</th>\n",
       "      <td>audi</td>\n",
       "      <td>a4</td>\n",
       "      <td>2.0</td>\n",
       "      <td>2008</td>\n",
       "      <td>4</td>\n",
       "      <td>manual(m6)</td>\n",
       "      <td>f</td>\n",
       "      <td>20</td>\n",
       "      <td>31</td>\n",
       "      <td>p</td>\n",
       "      <td>compact</td>\n",
       "      <td>25.5</td>\n",
       "      <td>pass</td>\n",
       "      <td>B</td>\n",
       "    </tr>\n",
       "    <tr>\n",
       "      <th>3</th>\n",
       "      <td>audi</td>\n",
       "      <td>a4</td>\n",
       "      <td>2.0</td>\n",
       "      <td>2008</td>\n",
       "      <td>4</td>\n",
       "      <td>auto(av)</td>\n",
       "      <td>f</td>\n",
       "      <td>21</td>\n",
       "      <td>30</td>\n",
       "      <td>p</td>\n",
       "      <td>compact</td>\n",
       "      <td>25.5</td>\n",
       "      <td>pass</td>\n",
       "      <td>B</td>\n",
       "    </tr>\n",
       "    <tr>\n",
       "      <th>4</th>\n",
       "      <td>audi</td>\n",
       "      <td>a4</td>\n",
       "      <td>2.8</td>\n",
       "      <td>1999</td>\n",
       "      <td>6</td>\n",
       "      <td>auto(l5)</td>\n",
       "      <td>f</td>\n",
       "      <td>16</td>\n",
       "      <td>26</td>\n",
       "      <td>p</td>\n",
       "      <td>compact</td>\n",
       "      <td>21.0</td>\n",
       "      <td>pass</td>\n",
       "      <td>B</td>\n",
       "    </tr>\n",
       "  </tbody>\n",
       "</table>\n",
       "</div>"
      ],
      "text/plain": [
       "  manufacturer model  displ  year  cyl       trans drv  cty  hwy fl category  \\\n",
       "0         audi    a4    1.8  1999    4    auto(l5)   f   18   29  p  compact   \n",
       "1         audi    a4    1.8  1999    4  manual(m5)   f   21   29  p  compact   \n",
       "2         audi    a4    2.0  2008    4  manual(m6)   f   20   31  p  compact   \n",
       "3         audi    a4    2.0  2008    4    auto(av)   f   21   30  p  compact   \n",
       "4         audi    a4    2.8  1999    6    auto(l5)   f   16   26  p  compact   \n",
       "\n",
       "   total  test grade  \n",
       "0   23.5  pass     B  \n",
       "1   25.0  pass     B  \n",
       "2   25.5  pass     B  \n",
       "3   25.5  pass     B  \n",
       "4   21.0  pass     B  "
      ]
     },
     "execution_count": 47,
     "metadata": {},
     "output_type": "execute_result"
    }
   ],
   "source": [
    "# total 기준으로 A, B, C 등급 부여\n",
    "mpg['grade'] = np.where(mpg['total'] >= 30, 'A',\n",
    "               np.where(mpg['total'] >= 20, 'B', 'C'))\n",
    "\n",
    "# 데이터 확인\n",
    "mpg.head()"
   ]
  },
  {
   "cell_type": "markdown",
   "id": "802d289c",
   "metadata": {
    "id": "802d289c"
   },
   "source": [
    "#### 2. 빈도표와 막대 그래프로 연비 등급 살펴보기\n",
    "\n"
   ]
  },
  {
   "cell_type": "code",
   "execution_count": null,
   "id": "f50654e8",
   "metadata": {
    "id": "f50654e8",
    "lines_to_next_cell": 0,
    "outputId": "baa6fda4-be7a-4ede-bc75-5a92c9064ba4"
   },
   "outputs": [
    {
     "data": {
      "text/plain": [
       "grade\n",
       "B    118\n",
       "C    106\n",
       "A     10\n",
       "Name: count, dtype: int64"
      ]
     },
     "execution_count": 48,
     "metadata": {},
     "output_type": "execute_result"
    }
   ],
   "source": [
    "count_grade = mpg['grade'].value_counts()  # 등급 빈도표 만들기\n",
    "count_grade"
   ]
  },
  {
   "cell_type": "code",
   "execution_count": null,
   "id": "7f502c35",
   "metadata": {
    "eval": false,
    "id": "7f502c35",
    "outputId": "2f93cc53-43a5-43a3-db6c-1e67e562d446"
   },
   "outputs": [
    {
     "data": {
      "text/plain": [
       "<Axes: xlabel='grade'>"
      ]
     },
     "execution_count": 49,
     "metadata": {},
     "output_type": "execute_result"
    },
    {
     "data": {
      "image/png": "[encoded data removed]",
      "text/plain": [
       "<Figure size 640x480 with 1 Axes>"
      ]
     },
     "metadata": {
      "image/png": {
       "height": 432,
       "width": 552
      }
     },
     "output_type": "display_data"
    }
   ],
   "source": [
    "count_grade.plot.bar(rot = 0)  # 등급 빈도 막대 그래프 만들기"
   ]
  },
  {
   "cell_type": "markdown",
   "id": "6b826f69",
   "metadata": {
    "id": "6b826f69"
   },
   "source": [
    "#### 알파벳순으로 막대 정렬하기\n",
    "\n",
    "\n",
    "\n"
   ]
  },
  {
   "cell_type": "code",
   "execution_count": null,
   "id": "a4e9edfe",
   "metadata": {
    "id": "a4e9edfe",
    "lines_to_next_cell": 0,
    "outputId": "024668d9-30e1-4112-c51e-790c9cc292f5"
   },
   "outputs": [
    {
     "data": {
      "text/plain": [
       "grade\n",
       "A     10\n",
       "B    118\n",
       "C    106\n",
       "Name: count, dtype: int64"
      ]
     },
     "execution_count": 50,
     "metadata": {},
     "output_type": "execute_result"
    }
   ],
   "source": [
    "# 등급 빈도표 알파벳순 정렬\n",
    "count_grade = mpg['grade'].value_counts().sort_index()\n",
    "count_grade"
   ]
  },
  {
   "cell_type": "code",
   "execution_count": null,
   "id": "b914b345",
   "metadata": {
    "eval": false,
    "id": "b914b345",
    "outputId": "deb31322-6fd3-4022-8460-17af407891f2"
   },
   "outputs": [
    {
     "data": {
      "text/plain": [
       "<Axes: xlabel='grade'>"
      ]
     },
     "execution_count": 51,
     "metadata": {},
     "output_type": "execute_result"
    },
    {
     "data": {
      "image/png": "[encoded data removed]",
      "text/plain": [
       "<Figure size 640x480 with 1 Axes>"
      ]
     },
     "metadata": {
      "image/png": {
       "height": 432,
       "width": 552
      }
     },
     "output_type": "display_data"
    }
   ],
   "source": [
    "# 등급 빈도 막대 그래프 만들기\n",
    "count_grade.plot.bar(rot = 0)"
   ]
  },
  {
   "cell_type": "markdown",
   "id": "d8cd29ec",
   "metadata": {
    "id": "d8cd29ec"
   },
   "source": [
    "---\n",
    "\n",
    "### (알아 두면 좋아요) 메서드 체이닝"
   ]
  },
  {
   "cell_type": "code",
   "execution_count": null,
   "id": "c9cdf560",
   "metadata": {
    "eva": false,
    "id": "c9cdf560",
    "lines_to_next_cell": 2
   },
   "outputs": [],
   "source": [
    "# 출력 결과를 변수에 할당하는 방법\n",
    "df = mpg['grade']\n",
    "df = df.value_counts()\n",
    "df = df.sort_index()"
   ]
  },
  {
   "cell_type": "code",
   "execution_count": null,
   "id": "c52318ba",
   "metadata": {
    "eval": false,
    "id": "c52318ba"
   },
   "outputs": [],
   "source": [
    "# 메서드 체이닝\n",
    "df = mpg['grade'].value_counts().sort_index()"
   ]
  },
  {
   "cell_type": "markdown",
   "id": "364176ca-0cad-4bf8-b6f3-d44d58637c78",
   "metadata": {
    "id": "364176ca-0cad-4bf8-b6f3-d44d58637c78"
   },
   "source": [
    "---"
   ]
  },
  {
   "cell_type": "markdown",
   "id": "c9588813",
   "metadata": {
    "id": "c9588813"
   },
   "source": [
    "#### 필요한 만큼 범주 만들기\n",
    "\n"
   ]
  },
  {
   "cell_type": "code",
   "execution_count": null,
   "id": "a0d3a116",
   "metadata": {
    "id": "a0d3a116",
    "lines_to_next_cell": 0
   },
   "outputs": [],
   "source": [
    "# A, B, C, D 등급 변수 만들기\n",
    "mpg['grade2'] = np.where(mpg['total'] >= 30, 'A',\n",
    "                np.where(mpg['total'] >= 25, 'B',\n",
    "                np.where(mpg['total'] >= 20, 'C', 'D')))"
   ]
  },
  {
   "cell_type": "markdown",
   "id": "7bc61868",
   "metadata": {
    "id": "7bc61868"
   },
   "source": [
    "### ⌨️ 목록에 해당하는 행으로 변수 만들기\n",
    "\n"
   ]
  },
  {
   "cell_type": "code",
   "execution_count": null,
   "id": "97775f9b",
   "metadata": {
    "id": "97775f9b",
    "outputId": "279638f0-3950-4643-d8ea-7a356fb5c67d"
   },
   "outputs": [
    {
     "data": {
      "text/plain": [
       "array(['compact', 'midsize', 'suv', '2seater', 'minivan', 'pickup',\n",
       "       'subcompact'], dtype=object)"
      ]
     },
     "execution_count": 55,
     "metadata": {},
     "output_type": "execute_result"
    }
   ],
   "source": [
    "mpg['category'].unique()"
   ]
  },
  {
   "cell_type": "code",
   "execution_count": null,
   "id": "070abb9a",
   "metadata": {
    "id": "070abb9a",
    "lines_to_next_cell": 0,
    "outputId": "e61884e3-2d56-4f05-d25c-d7191b967816"
   },
   "outputs": [
    {
     "data": {
      "text/plain": [
       "size\n",
       "large    147\n",
       "small     87\n",
       "Name: count, dtype: int64"
      ]
     },
     "execution_count": 56,
     "metadata": {},
     "output_type": "execute_result"
    }
   ],
   "source": [
    "mpg['size'] = np.where((mpg['category'] == 'compact') |\n",
    "                       (mpg['category'] == 'subcompact') |\n",
    "                       (mpg['category'] == '2seater'),\n",
    "                       'small', 'large')\n",
    "\n",
    "mpg['size'].value_counts()"
   ]
  },
  {
   "cell_type": "code",
   "execution_count": null,
   "id": "4e713b98",
   "metadata": {
    "eval": false,
    "id": "4e713b98",
    "lines_to_next_cell": 0,
    "outputId": "02ac36f8-e9f7-4b2e-cfdd-89c5a969b144"
   },
   "outputs": [
    {
     "data": {
      "text/plain": [
       "size\n",
       "large    147\n",
       "small     87\n",
       "Name: count, dtype: int64"
      ]
     },
     "execution_count": 57,
     "metadata": {},
     "output_type": "execute_result"
    }
   ],
   "source": [
    "mpg['size'] = np.where(mpg['category'].isin(['compact', 'subcompact', '2seater']), 'small', 'large')\n",
    "\n",
    "mpg['size'].value_counts()"
   ]
  },
  {
   "cell_type": "markdown",
   "id": "b2b8efb5",
   "metadata": {
    "id": "b2b8efb5"
   },
   "source": [
    "---\n",
    "### 정리하기"
   ]
  },
  {
   "cell_type": "code",
   "execution_count": null,
   "id": "ec6e2bd9",
   "metadata": {
    "eval": false,
    "id": "ec6e2bd9",
    "outputId": "86f2ddc3-400f-4548-dd7f-08265b6f06e8"
   },
   "outputs": [
    {
     "name": "stdout",
     "output_type": "stream",
     "text": [
      "<class 'pandas.core.frame.DataFrame'>\n",
      "RangeIndex: 234 entries, 0 to 233\n",
      "Data columns (total 11 columns):\n",
      " #   Column        Non-Null Count  Dtype  \n",
      "---  ------        --------------  -----  \n",
      " 0   manufacturer  234 non-null    object \n",
      " 1   model         234 non-null    object \n",
      " 2   displ         234 non-null    float64\n",
      " 3   year          234 non-null    int64  \n",
      " 4   cyl           234 non-null    int64  \n",
      " 5   trans         234 non-null    object \n",
      " 6   drv           234 non-null    object \n",
      " 7   cty           234 non-null    int64  \n",
      " 8   hwy           234 non-null    int64  \n",
      " 9   fl            234 non-null    object \n",
      " 10  category      234 non-null    object \n",
      "dtypes: float64(1), int64(4), object(6)\n",
      "memory usage: 20.2+ KB\n"
     ]
    },
    {
     "data": {
      "text/plain": [
       "<Axes: xlabel='test'>"
      ]
     },
     "execution_count": 58,
     "metadata": {},
     "output_type": "execute_result"
    },
    {
     "data": {
      "image/png": "[encoded data removed]",
      "text/plain": [
       "<Figure size 640x480 with 1 Axes>"
      ]
     },
     "metadata": {
      "image/png": {
       "height": 432,
       "width": 552
      }
     },
     "output_type": "display_data"
    }
   ],
   "source": [
    "# 1. 패키지 로드\n",
    "import pandas as pd\n",
    "import numpy as np\n",
    "\n",
    "# 2. 데이터 불러오기\n",
    "mpg = pd.read_csv('./Data/mpg.csv')\n",
    "\n",
    "# 3. 데이터 파악하기\n",
    "mpg.head()      # 데이터 앞부분\n",
    "mpg.tail()      # 데이터 뒷부분\n",
    "mpg.shape       # 행, 열 수\n",
    "mpg.info()      # 속성\n",
    "mpg.describe()  # 요약 통계량\n",
    "\n",
    "# 4. 변수명 바꾸기\n",
    "mpg = mpg.rename(columns = {'manufacturer' : 'company'})\n",
    "\n",
    "# 5. 파생변수 만들기\n",
    "mpg['total'] = (mpg['cty'] + mpg['hwy'])/2                  # 변수 조합\n",
    "mpg['test'] = np.where(mpg['total'] >= 20, 'pass', 'fail')  # 조건문 활용\n",
    "\n",
    "# 6. 빈도 확인하기\n",
    "count_test = mpg['test'].value_counts()  # 빈도표 만들기\n",
    "count_test.plot.bar(rot = 0)             # 빈도 막대 그래프 만들기"
   ]
  }
 ],
 "metadata": {
  "colab": {
   "provenance": []
  },
  "jupytext": {
   "cell_metadata_filter": "eval,echo,name,eva,error,-all",
   "notebook_metadata_filter": "-all"
  },
  "kernelspec": {
   "display_name": "Python 3 (ipykernel)",
   "language": "python",
   "name": "python3"
  },
  "language_info": {
   "codemirror_mode": {
    "name": "ipython",
    "version": 3
   },
   "file_extension": ".py",
   "mimetype": "text/x-python",
   "name": "python",
   "nbconvert_exporter": "python",
   "pygments_lexer": "ipython3",
   "version": "3.12.7"
  }
 },
 "nbformat": 4,
 "nbformat_minor": 5
}
